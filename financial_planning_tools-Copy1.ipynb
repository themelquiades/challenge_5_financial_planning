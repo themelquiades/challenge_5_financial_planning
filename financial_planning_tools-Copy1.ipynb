{
 "cells": [
  {
   "cell_type": "markdown",
   "metadata": {},
   "source": [
    "# Financial Planning with APIs and Simulations\n",
    "\n",
    "In this Challenge, you’ll create two financial analysis tools by using a single Jupyter notebook:\n",
    "\n",
    "Part 1: A financial planner for emergencies. The members will be able to use this tool to visualize their current savings. The members can then determine if they have enough reserves for an emergency fund.\n",
    "\n",
    "Part 2: A financial planner for retirement. This tool will forecast the performance of their retirement portfolio in 30 years. To do this, the tool will make an Alpaca API call via the Alpaca SDK to get historical price data for use in Monte Carlo simulations.\n",
    "\n",
    "You’ll use the information from the Monte Carlo simulation to answer questions about the portfolio in your Jupyter notebook.\n",
    "\n"
   ]
  },
  {
   "cell_type": "code",
   "execution_count": 1,
   "metadata": {},
   "outputs": [],
   "source": [
    "# Import the required libraries and dependencies\n",
    "import os\n",
    "import requests\n",
    "import json\n",
    "import pandas as pd\n",
    "from dotenv import load_dotenv\n",
    "import alpaca_trade_api as tradeapi\n",
    "from MCForecastTools import MCSimulation\n",
    "\n",
    "%matplotlib inline"
   ]
  },
  {
   "cell_type": "code",
   "execution_count": 2,
   "metadata": {},
   "outputs": [
    {
     "data": {
      "text/plain": [
       "True"
      ]
     },
     "execution_count": 2,
     "metadata": {},
     "output_type": "execute_result"
    }
   ],
   "source": [
    "# Load the environment variables from the .env file\n",
    "#by calling the load_dotenv function\n",
    "load_dotenv()"
   ]
  },
  {
   "cell_type": "markdown",
   "metadata": {},
   "source": [
    "## Part 1: Create a Financial Planner for Emergencies"
   ]
  },
  {
   "cell_type": "markdown",
   "metadata": {},
   "source": [
    "### Evaluate the Cryptocurrency Wallet by Using the Requests Library\n",
    "\n",
    "In this section, you’ll determine the current value of a member’s cryptocurrency wallet. You’ll collect the current prices for the Bitcoin and Ethereum cryptocurrencies by using the Python Requests library. For the prototype, you’ll assume that the member holds the 1.2 Bitcoins (BTC) and 5.3 Ethereum coins (ETH). To do all this, complete the following steps:\n",
    "\n",
    "1. Create a variable named `monthly_income`, and set its value to `12000`.\n",
    "\n",
    "2. Use the Requests library to get the current price (in US dollars) of Bitcoin (BTC) and Ethereum (ETH) by using the API endpoints that the starter code supplies.\n",
    "\n",
    "3. Navigate the JSON response object to access the current price of each coin, and store each in a variable.\n",
    "\n",
    "    > **Hint** Note the specific identifier for each cryptocurrency in the API JSON response. The Bitcoin identifier is `1`, and the Ethereum identifier is `1027`.\n",
    "\n",
    "4. Calculate the value, in US dollars, of the current amount of each cryptocurrency and of the entire cryptocurrency wallet.\n",
    "\n"
   ]
  },
  {
   "cell_type": "code",
   "execution_count": 3,
   "metadata": {},
   "outputs": [],
   "source": [
    "# The current number of coins for each cryptocurrency asset held in the portfolio.\n",
    "btc_coins = 1.2\n",
    "eth_coins = 5.3"
   ]
  },
  {
   "cell_type": "markdown",
   "metadata": {},
   "source": [
    "#### Step 1: Create a variable named `monthly_income`, and set its value to `12000`."
   ]
  },
  {
   "cell_type": "code",
   "execution_count": 4,
   "metadata": {},
   "outputs": [],
   "source": [
    "# The monthly amount for the member's household income\n",
    "monthly_income = 12000\n"
   ]
  },
  {
   "cell_type": "markdown",
   "metadata": {},
   "source": [
    "#### Review the endpoint URLs for the API calls to Free Crypto API in order to get the current pricing information for both BTC and ETH."
   ]
  },
  {
   "cell_type": "code",
   "execution_count": 5,
   "metadata": {},
   "outputs": [],
   "source": [
    "# The Free Crypto API Call endpoint URLs for the held cryptocurrency assets\n",
    "btc_url = \"https://api.alternative.me/v2/ticker/Bitcoin/?convert=USD\"\n",
    "eth_url = \"https://api.alternative.me/v2/ticker/Ethereum/?convert=USD\""
   ]
  },
  {
   "cell_type": "markdown",
   "metadata": {},
   "source": [
    "#### Step 2. Use the Requests library to get the current price (in US dollars) of Bitcoin (BTC) and Ethereum (ETH) by using the API endpoints that the starter code supplied."
   ]
  },
  {
   "cell_type": "code",
   "execution_count": 6,
   "metadata": {},
   "outputs": [
    {
     "name": "stdout",
     "output_type": "stream",
     "text": [
      "{\n",
      "    \"data\": {\n",
      "        \"1\": {\n",
      "            \"circulating_supply\": 18942756,\n",
      "            \"id\": 1,\n",
      "            \"last_updated\": 1643426608,\n",
      "            \"max_supply\": 21000000,\n",
      "            \"name\": \"Bitcoin\",\n",
      "            \"quotes\": {\n",
      "                \"USD\": {\n",
      "                    \"market_cap\": 713154894527,\n",
      "                    \"percent_change_1h\": 0.240160607274239,\n",
      "                    \"percent_change_24h\": 1.10267669163824,\n",
      "                    \"percent_change_7d\": 3.43340309599833,\n",
      "                    \"percentage_change_1h\": 0.240160607274239,\n",
      "                    \"percentage_change_24h\": 1.10267669163824,\n",
      "                    \"percentage_change_7d\": 3.43340309599833,\n",
      "                    \"price\": 37762.0,\n",
      "                    \"volume_24h\": 17972172603\n",
      "                }\n",
      "            },\n",
      "            \"rank\": 1,\n",
      "            \"symbol\": \"BTC\",\n",
      "            \"total_supply\": 18942756,\n",
      "            \"website_slug\": \"bitcoin\"\n",
      "        }\n",
      "    },\n",
      "    \"metadata\": {\n",
      "        \"error\": null,\n",
      "        \"num_cryptocurrencies\": 3105,\n",
      "        \"timestamp\": 1643426608\n",
      "    }\n",
      "}\n"
     ]
    }
   ],
   "source": [
    "# Using the Python requests library, make an API call to access the current price of BTC\n",
    "btc_response = requests.get(btc_url).json()\n",
    "\n",
    "# Use the json.dumps function to review the response data from the API call\n",
    "# Use the indent and sort_keys parameters to make the response object readable\n",
    "print(json.dumps(btc_response, indent=4, sort_keys=True))\n"
   ]
  },
  {
   "cell_type": "code",
   "execution_count": 7,
   "metadata": {},
   "outputs": [
    {
     "name": "stdout",
     "output_type": "stream",
     "text": [
      "{\n",
      "    \"data\": {\n",
      "        \"1027\": {\n",
      "            \"circulating_supply\": 119354466,\n",
      "            \"id\": 1027,\n",
      "            \"last_updated\": 1643426619,\n",
      "            \"max_supply\": 0,\n",
      "            \"name\": \"Ethereum\",\n",
      "            \"quotes\": {\n",
      "                \"USD\": {\n",
      "                    \"market_cap\": 303231801406,\n",
      "                    \"percent_change_1h\": -0.032704592958243,\n",
      "                    \"percent_change_24h\": 4.19226165706731,\n",
      "                    \"percent_change_7d\": -0.71664864723299,\n",
      "                    \"percentage_change_1h\": -0.032704592958243,\n",
      "                    \"percentage_change_24h\": 4.19226165706731,\n",
      "                    \"percentage_change_7d\": -0.71664864723299,\n",
      "                    \"price\": 2545.97,\n",
      "                    \"volume_24h\": 13683383624\n",
      "                }\n",
      "            },\n",
      "            \"rank\": 2,\n",
      "            \"symbol\": \"ETH\",\n",
      "            \"total_supply\": 119354466,\n",
      "            \"website_slug\": \"ethereum\"\n",
      "        }\n",
      "    },\n",
      "    \"metadata\": {\n",
      "        \"error\": null,\n",
      "        \"num_cryptocurrencies\": 3105,\n",
      "        \"timestamp\": 1643426619\n",
      "    }\n",
      "}\n"
     ]
    }
   ],
   "source": [
    "# Using the Python requests library, make an API call to access the current price ETH\n",
    "eth_response = requests.get(eth_url).json()\n",
    "\n",
    "# Use the json.dumps function to review the response data from the API call\n",
    "# Use the indent and sort_keys parameters to make the response object readable\n",
    "print(json.dumps(eth_response, indent=4, sort_keys=True))"
   ]
  },
  {
   "cell_type": "markdown",
   "metadata": {},
   "source": [
    "#### Step 3: Navigate the JSON response object to access the current price of each coin, and store each in a variable."
   ]
  },
  {
   "cell_type": "code",
   "execution_count": 8,
   "metadata": {},
   "outputs": [
    {
     "data": {
      "text/plain": [
       "37762.0"
      ]
     },
     "execution_count": 8,
     "metadata": {},
     "output_type": "execute_result"
    }
   ],
   "source": [
    "# Navigate the BTC response object to access the current price of BTC\n",
    "btc_price = btc_response[\"data\"]['1']['quotes']['USD']['price']\n",
    "\n",
    "# Print the current price of BTC\n",
    "btc_price\n"
   ]
  },
  {
   "cell_type": "code",
   "execution_count": 9,
   "metadata": {},
   "outputs": [
    {
     "data": {
      "text/plain": [
       "2545.97"
      ]
     },
     "execution_count": 9,
     "metadata": {},
     "output_type": "execute_result"
    }
   ],
   "source": [
    "# Navigate the BTC response object to access the current price of ETH\n",
    "eth_price = eth_response[\"data\"]['1027']['quotes']['USD']['price']\n",
    "\n",
    "# Print the current price of ETH\n",
    "eth_price\n"
   ]
  },
  {
   "cell_type": "markdown",
   "metadata": {},
   "source": [
    "### Step 4: Calculate the value, in US dollars, of the current amount of each cryptocurrency and of the entire cryptocurrency wallet."
   ]
  },
  {
   "cell_type": "code",
   "execution_count": 10,
   "metadata": {},
   "outputs": [
    {
     "data": {
      "text/plain": [
       "45314.4"
      ]
     },
     "execution_count": 10,
     "metadata": {},
     "output_type": "execute_result"
    }
   ],
   "source": [
    "# Compute the current value of the BTC holding \n",
    "btc_value = btc_price * btc_coins\n",
    "\n",
    "# Print current value of your holding in BTC\n",
    "btc_value\n"
   ]
  },
  {
   "cell_type": "code",
   "execution_count": 11,
   "metadata": {},
   "outputs": [
    {
     "data": {
      "text/plain": [
       "13493.640999999998"
      ]
     },
     "execution_count": 11,
     "metadata": {},
     "output_type": "execute_result"
    }
   ],
   "source": [
    "# Compute the current value of the ETH holding \n",
    "eth_value = eth_price * eth_coins\n",
    "\n",
    "# Print current value of your holding in ETH\n",
    "eth_value\n"
   ]
  },
  {
   "cell_type": "code",
   "execution_count": 12,
   "metadata": {},
   "outputs": [
    {
     "data": {
      "text/plain": [
       "58808.041"
      ]
     },
     "execution_count": 12,
     "metadata": {},
     "output_type": "execute_result"
    }
   ],
   "source": [
    "# Compute the total value of the cryptocurrency wallet\n",
    "# Add the value of the BTC holding to the value of the ETH holding\n",
    "total_crypto_wallet = btc_value+eth_value\n",
    "\n",
    "# Print current cryptocurrency wallet balance\n",
    "total_crypto_wallet\n"
   ]
  },
  {
   "cell_type": "markdown",
   "metadata": {},
   "source": [
    "### Evaluate the Stock and Bond Holdings by Using the Alpaca SDK\n",
    "\n",
    "In this section, you’ll determine the current value of a member’s stock and bond holdings. You’ll make an API call to Alpaca via the Alpaca SDK to get the current closing prices of the SPDR S&P 500 ETF Trust (ticker: SPY) and of the iShares Core US Aggregate Bond ETF (ticker: AGG). For the prototype, assume that the member holds 110 shares of SPY, which represents the stock portion of their portfolio, and 200 shares of AGG, which represents the bond portion. To do all this, complete the following steps:\n",
    "\n",
    "1. In the `Starter_Code` folder, create an environment file (`.env`) to store the values of your Alpaca API key and Alpaca secret key.\n",
    "\n",
    "2. Set the variables for the Alpaca API and secret keys. Using the Alpaca SDK, create the Alpaca `tradeapi.REST` object. In this object, include the parameters for the Alpaca API key, the secret key, and the version number.\n",
    "\n",
    "3. Set the following parameters for the Alpaca API call:\n",
    "\n",
    "    - `tickers`: Use the tickers for the member’s stock and bond holdings.\n",
    "\n",
    "    - `timeframe`: Use a time frame of one day.\n",
    "\n",
    "    - `start_date` and `end_date`: Use the same date for these parameters, and format them with the date of the previous weekday (or `2020-08-07`). This is because you want the one closing price for the most-recent trading day.\n",
    "\n",
    "4. Get the current closing prices for `SPY` and `AGG` by using the Alpaca `get_barset` function. Format the response as a Pandas DataFrame by including the `df` property at the end of the `get_barset` function.\n",
    "\n",
    "5. Navigating the Alpaca response DataFrame, select the `SPY` and `AGG` closing prices, and store them as variables.\n",
    "\n",
    "6. Calculate the value, in US dollars, of the current amount of shares in each of the stock and bond portions of the portfolio, and print the results.\n"
   ]
  },
  {
   "cell_type": "markdown",
   "metadata": {},
   "source": [
    "#### Review the total number of shares held in both (SPY) and (AGG)."
   ]
  },
  {
   "cell_type": "code",
   "execution_count": 13,
   "metadata": {},
   "outputs": [],
   "source": [
    "# Current amount of shares held in both the stock (SPY) and bond (AGG) portion of the portfolio.\n",
    "spy_shares = 110\n",
    "agg_shares = 200\n"
   ]
  },
  {
   "cell_type": "markdown",
   "metadata": {},
   "source": [
    "#### Step 1: In the `Starter_Code` folder, create an environment file (`.env`) to store the values of your Alpaca API key and Alpaca secret key."
   ]
  },
  {
   "cell_type": "markdown",
   "metadata": {},
   "source": [
    "#### Step 2: Set the variables for the Alpaca API and secret keys. Using the Alpaca SDK, create the Alpaca `tradeapi.REST` object. In this object, include the parameters for the Alpaca API key, the secret key, and the version number."
   ]
  },
  {
   "cell_type": "code",
   "execution_count": 3,
   "metadata": {},
   "outputs": [
    {
     "data": {
      "text/plain": [
       "str"
      ]
     },
     "metadata": {},
     "output_type": "display_data"
    },
    {
     "data": {
      "text/plain": [
       "str"
      ]
     },
     "metadata": {},
     "output_type": "display_data"
    }
   ],
   "source": [
    "# Set the variables for the Alpaca API and secret keys\n",
    "alpaca_api_key = os.getenv(\"ALPACA_API_KEY\")\n",
    "alpaca_secret_key = os.getenv(\"ALPACA_SECRET_KEY\")\n",
    "\n",
    "# Checking the values were imported correctly by evaluating the type of each\n",
    "display(type(alpaca_api_key))\n",
    "display(type(alpaca_secret_key))\n",
    "\n",
    "# Create the Alpaca tradeapi.REST object\n",
    "alpaca = tradeapi.REST(\n",
    "    alpaca_api_key,\n",
    "    alpaca_secret_key,\n",
    "    api_version=\"v2\")\n"
   ]
  },
  {
   "cell_type": "markdown",
   "metadata": {},
   "source": [
    "#### Step 3: Set the following parameters for the Alpaca API call:\n",
    "\n",
    "- `tickers`: Use the tickers for the member’s stock and bond holdings.\n",
    "\n",
    "- `timeframe`: Use a time frame of one day.\n",
    "\n",
    "- `start_date` and `end_date`: Use the same date for these parameters, and format them with the date of the previous weekday (or `2020-08-07`). This is because you want the one closing price for the most-recent trading day.\n"
   ]
  },
  {
   "cell_type": "code",
   "execution_count": 4,
   "metadata": {},
   "outputs": [],
   "source": [
    "# Set the tickers for both the bond and stock portion of the portfolio\n",
    "tickers = ['AOA','UPRO']\n",
    "\n",
    "# Set timeframe to 1D \n",
    "timeframe= '1D'\n",
    "\n",
    "# Format current date as ISO format\n",
    "# Set both the start and end date at the date of your prior weekday \n",
    "# This will give you the closing price of the previous trading day\n",
    "# Alternatively you can use a start and end date of 2020-08-07\n",
    "start_date = pd.Timestamp(\"2022-01-27\", tz=\"America/New_York\").isoformat()\n",
    "end_date = pd.Timestamp(\"2022-01-27\", tz=\"America/New_York\").isoformat()\n"
   ]
  },
  {
   "cell_type": "markdown",
   "metadata": {},
   "source": [
    "#### Step 4: Get the current closing prices for `SPY` and `AGG` by using the Alpaca `get_barset` function. Format the response as a Pandas DataFrame by including the `df` property at the end of the `get_barset` function."
   ]
  },
  {
   "cell_type": "code",
   "execution_count": 20,
   "metadata": {},
   "outputs": [
    {
     "data": {
      "text/html": [
       "<div>\n",
       "<style scoped>\n",
       "    .dataframe tbody tr th:only-of-type {\n",
       "        vertical-align: middle;\n",
       "    }\n",
       "\n",
       "    .dataframe tbody tr th {\n",
       "        vertical-align: top;\n",
       "    }\n",
       "\n",
       "    .dataframe thead tr th {\n",
       "        text-align: left;\n",
       "    }\n",
       "\n",
       "    .dataframe thead tr:last-of-type th {\n",
       "        text-align: right;\n",
       "    }\n",
       "</style>\n",
       "<table border=\"1\" class=\"dataframe\">\n",
       "  <thead>\n",
       "    <tr>\n",
       "      <th></th>\n",
       "      <th colspan=\"5\" halign=\"left\">AGG</th>\n",
       "      <th colspan=\"5\" halign=\"left\">SPY</th>\n",
       "    </tr>\n",
       "    <tr>\n",
       "      <th></th>\n",
       "      <th>open</th>\n",
       "      <th>high</th>\n",
       "      <th>low</th>\n",
       "      <th>close</th>\n",
       "      <th>volume</th>\n",
       "      <th>open</th>\n",
       "      <th>high</th>\n",
       "      <th>low</th>\n",
       "      <th>close</th>\n",
       "      <th>volume</th>\n",
       "    </tr>\n",
       "    <tr>\n",
       "      <th>time</th>\n",
       "      <th></th>\n",
       "      <th></th>\n",
       "      <th></th>\n",
       "      <th></th>\n",
       "      <th></th>\n",
       "      <th></th>\n",
       "      <th></th>\n",
       "      <th></th>\n",
       "      <th></th>\n",
       "      <th></th>\n",
       "    </tr>\n",
       "  </thead>\n",
       "  <tbody>\n",
       "    <tr>\n",
       "      <th>2022-01-27 00:00:00-05:00</th>\n",
       "      <td>111.62</td>\n",
       "      <td>111.88</td>\n",
       "      <td>111.62</td>\n",
       "      <td>111.72</td>\n",
       "      <td>5836124</td>\n",
       "      <td>438.26</td>\n",
       "      <td>441.58</td>\n",
       "      <td>429.45</td>\n",
       "      <td>431.27</td>\n",
       "      <td>136251597</td>\n",
       "    </tr>\n",
       "  </tbody>\n",
       "</table>\n",
       "</div>"
      ],
      "text/plain": [
       "                              AGG                                      SPY  \\\n",
       "                             open    high     low   close   volume    open   \n",
       "time                                                                         \n",
       "2022-01-27 00:00:00-05:00  111.62  111.88  111.62  111.72  5836124  438.26   \n",
       "\n",
       "                                                              \n",
       "                             high     low   close     volume  \n",
       "time                                                          \n",
       "2022-01-27 00:00:00-05:00  441.58  429.45  431.27  136251597  "
      ]
     },
     "execution_count": 20,
     "metadata": {},
     "output_type": "execute_result"
    }
   ],
   "source": [
    "# Use the Alpaca get_barset function to get current closing prices the portfolio\n",
    "# Be sure to set the `df` property after the function to format the response object as a DataFrame\n",
    "prices_df = alpaca.get_barset(tickers,\n",
    "                             timeframe,\n",
    "                             start=start_date,\n",
    "                             end=end_date).df\n",
    "                              \n",
    "\n",
    "# Review the first 5 rows of the Alpaca DataFrame\n",
    "prices_df.head()\n",
    "\n"
   ]
  },
  {
   "cell_type": "markdown",
   "metadata": {},
   "source": [
    "#### Step 5: Navigating the Alpaca response DataFrame, select the `SPY` and `AGG` closing prices, and store them as variables."
   ]
  },
  {
   "cell_type": "code",
   "execution_count": 37,
   "metadata": {},
   "outputs": [
    {
     "data": {
      "text/plain": [
       "111.72"
      ]
     },
     "execution_count": 37,
     "metadata": {},
     "output_type": "execute_result"
    }
   ],
   "source": [
    "# Access the closing price for AGG from the Alpaca DataFrame\n",
    "# Converting the value to a floating point number\n",
    "agg_close_price = float(prices_df['AGG']['close'])\n",
    "\n",
    "# Print the AGG closing price\n",
    "agg_close_price\n"
   ]
  },
  {
   "cell_type": "code",
   "execution_count": 38,
   "metadata": {},
   "outputs": [
    {
     "data": {
      "text/plain": [
       "431.27"
      ]
     },
     "execution_count": 38,
     "metadata": {},
     "output_type": "execute_result"
    }
   ],
   "source": [
    "# Access the closing price for SPY from the Alpaca DataFrame\n",
    "# Converting the value to a floating point number\n",
    "spy_close_price = float(prices_df['SPY']['close'])\n",
    "\n",
    "# Print the SPY closing price\n",
    "spy_close_price\n"
   ]
  },
  {
   "cell_type": "markdown",
   "metadata": {},
   "source": [
    "#### Step 6: Calculate the value, in US dollars, of the current amount of shares in each of the stock and bond portions of the portfolio, and print the results."
   ]
  },
  {
   "cell_type": "code",
   "execution_count": 39,
   "metadata": {},
   "outputs": [
    {
     "data": {
      "text/plain": [
       "22344.0"
      ]
     },
     "execution_count": 39,
     "metadata": {},
     "output_type": "execute_result"
    }
   ],
   "source": [
    "# Calculate the current value of the bond portion of the portfolio\n",
    "agg_value = agg_close_price*agg_shares\n",
    "\n",
    "# Print the current value of the bond portfolio\n",
    "agg_value\n"
   ]
  },
  {
   "cell_type": "code",
   "execution_count": 40,
   "metadata": {},
   "outputs": [
    {
     "data": {
      "text/plain": [
       "47439.7"
      ]
     },
     "execution_count": 40,
     "metadata": {},
     "output_type": "execute_result"
    }
   ],
   "source": [
    "# Calculate the current value of the stock portion of the portfolio\n",
    "spy_value = spy_close_price*spy_shares\n",
    "\n",
    "# Print the current value of the stock portfolio\n",
    "spy_value\n"
   ]
  },
  {
   "cell_type": "code",
   "execution_count": 13,
   "metadata": {},
   "outputs": [
    {
     "ename": "NameError",
     "evalue": "name 'agg_value' is not defined",
     "output_type": "error",
     "traceback": [
      "\u001b[0;31m---------------------------------------------------------------------------\u001b[0m",
      "\u001b[0;31mNameError\u001b[0m                                 Traceback (most recent call last)",
      "\u001b[0;32m/var/folders/by/fl7tfbzd1q72jms202hfn_ch0000gp/T/ipykernel_29390/4056463863.py\u001b[0m in \u001b[0;36m<module>\u001b[0;34m\u001b[0m\n\u001b[1;32m      1\u001b[0m \u001b[0;31m# Calculate the total value of the stock and bond portion of the portfolio\u001b[0m\u001b[0;34m\u001b[0m\u001b[0;34m\u001b[0m\u001b[0;34m\u001b[0m\u001b[0m\n\u001b[0;32m----> 2\u001b[0;31m \u001b[0mtotal_stocks_bonds\u001b[0m \u001b[0;34m=\u001b[0m \u001b[0magg_value\u001b[0m\u001b[0;34m+\u001b[0m\u001b[0mspy_value\u001b[0m\u001b[0;34m\u001b[0m\u001b[0;34m\u001b[0m\u001b[0m\n\u001b[0m\u001b[1;32m      3\u001b[0m \u001b[0;34m\u001b[0m\u001b[0m\n\u001b[1;32m      4\u001b[0m \u001b[0;31m# Print the current balance of the stock and bond portion of the portfolio\u001b[0m\u001b[0;34m\u001b[0m\u001b[0;34m\u001b[0m\u001b[0;34m\u001b[0m\u001b[0m\n\u001b[1;32m      5\u001b[0m \u001b[0mtotal_stocks_bonds\u001b[0m\u001b[0;34m\u001b[0m\u001b[0;34m\u001b[0m\u001b[0m\n",
      "\u001b[0;31mNameError\u001b[0m: name 'agg_value' is not defined"
     ]
    }
   ],
   "source": [
    "# Calculate the total value of the stock and bond portion of the portfolio\n",
    "total_stocks_bonds = agg_value+spy_value\n",
    "\n",
    "# Print the current balance of the stock and bond portion of the portfolio\n",
    "total_stocks_bonds\n"
   ]
  },
  {
   "cell_type": "code",
   "execution_count": 43,
   "metadata": {},
   "outputs": [
    {
     "data": {
      "text/plain": [
       "128591.741"
      ]
     },
     "execution_count": 43,
     "metadata": {},
     "output_type": "execute_result"
    }
   ],
   "source": [
    "# Calculate the total value of the member's entire savings portfolio\n",
    "# Add the value of the cryptocurrency walled to the value of the total stocks and bonds\n",
    "total_portfolio = total_stocks_bonds + total_crypto_wallet\n",
    "\n",
    "# Print current cryptocurrency wallet balance\n",
    "total_portfolio\n"
   ]
  },
  {
   "cell_type": "markdown",
   "metadata": {},
   "source": [
    "### Evaluate the Emergency Fund\n",
    "\n",
    "In this section, you’ll use the valuations for the cryptocurrency wallet and for the stock and bond portions of the portfolio to determine if the credit union member has enough savings to build an emergency fund into their financial plan. To do this, complete the following steps:\n",
    "\n",
    "1. Create a Python list named `savings_data` that has two elements. The first element contains the total value of the cryptocurrency wallet. The second element contains the total value of the stock and bond portions of the portfolio.\n",
    "\n",
    "2. Use the `savings_data` list to create a Pandas DataFrame named `savings_df`, and then display this DataFrame. The function to create the DataFrame should take the following three parameters:\n",
    "\n",
    "    - `savings_data`: Use the list that you just created.\n",
    "\n",
    "    - `columns`: Set this parameter equal to a Python list with a single value called `amount`.\n",
    "\n",
    "    - `index`: Set this parameter equal to a Python list with the values of `crypto` and `stock/bond`.\n",
    "\n",
    "3. Use the `savings_df` DataFrame to plot a pie chart that visualizes the composition of the member’s portfolio. The y-axis of the pie chart uses `amount`. Be sure to add a title.\n",
    "\n",
    "4. Using Python, determine if the current portfolio has enough to create an emergency fund as part of the member’s financial plan. Ideally, an emergency fund should equal to three times the member’s monthly income. To do this, implement the following steps:\n",
    "\n",
    "    1. Create a variable named `emergency_fund_value`, and set it equal to three times the value of the member’s `monthly_income` of $12000. (You set this earlier in Part 1).\n",
    "\n",
    "    2. Create a series of three if statements to determine if the member’s total portfolio is large enough to fund the emergency portfolio:\n",
    "\n",
    "        1. If the total portfolio value is greater than the emergency fund value, display a message congratulating the member for having enough money in this fund.\n",
    "\n",
    "        2. Else if the total portfolio value is equal to the emergency fund value, display a message congratulating the member on reaching this important financial goal.\n",
    "\n",
    "        3. Else the total portfolio is less than the emergency fund value, so display a message showing how many dollars away the member is from reaching the goal. (Subtract the total portfolio value from the emergency fund value.)\n"
   ]
  },
  {
   "cell_type": "markdown",
   "metadata": {},
   "source": [
    "#### Step 1: Create a Python list named `savings_data` that has two elements. The first element contains the total value of the cryptocurrency wallet. The second element contains the total value of the stock and bond portions of the portfolio."
   ]
  },
  {
   "cell_type": "code",
   "execution_count": 44,
   "metadata": {},
   "outputs": [
    {
     "data": {
      "text/plain": [
       "[58808.041, 69783.7]"
      ]
     },
     "execution_count": 44,
     "metadata": {},
     "output_type": "execute_result"
    }
   ],
   "source": [
    "# Consolidate financial assets data into a Python list\n",
    "savings_data = [total_crypto_wallet, total_stocks_bonds]\n",
    "\n",
    "# Review the Python list savings_data\n",
    "savings_data\n",
    "    "
   ]
  },
  {
   "cell_type": "markdown",
   "metadata": {},
   "source": [
    "#### Step 2: Use the `savings_data` list to create a Pandas DataFrame named `savings_df`, and then display this DataFrame. The function to create the DataFrame should take the following three parameters:\n",
    "\n",
    "- `savings_data`: Use the list that you just created.\n",
    "\n",
    "- `columns`: Set this parameter equal to a Python list with a single value called `amount`.\n",
    "\n",
    "- `index`: Set this parameter equal to a Python list with the values of `crypto` and `stock/bond`.\n"
   ]
  },
  {
   "cell_type": "code",
   "execution_count": 49,
   "metadata": {},
   "outputs": [
    {
     "data": {
      "text/html": [
       "<div>\n",
       "<style scoped>\n",
       "    .dataframe tbody tr th:only-of-type {\n",
       "        vertical-align: middle;\n",
       "    }\n",
       "\n",
       "    .dataframe tbody tr th {\n",
       "        vertical-align: top;\n",
       "    }\n",
       "\n",
       "    .dataframe thead th {\n",
       "        text-align: right;\n",
       "    }\n",
       "</style>\n",
       "<table border=\"1\" class=\"dataframe\">\n",
       "  <thead>\n",
       "    <tr style=\"text-align: right;\">\n",
       "      <th></th>\n",
       "      <th>amount</th>\n",
       "    </tr>\n",
       "  </thead>\n",
       "  <tbody>\n",
       "    <tr>\n",
       "      <th>crypto</th>\n",
       "      <td>58808.041</td>\n",
       "    </tr>\n",
       "    <tr>\n",
       "      <th>stock/bond</th>\n",
       "      <td>69783.700</td>\n",
       "    </tr>\n",
       "  </tbody>\n",
       "</table>\n",
       "</div>"
      ],
      "text/plain": [
       "               amount\n",
       "crypto      58808.041\n",
       "stock/bond  69783.700"
      ]
     },
     "execution_count": 49,
     "metadata": {},
     "output_type": "execute_result"
    }
   ],
   "source": [
    "# Create a Pandas DataFrame called savings_df \n",
    "savings_df = pd.DataFrame(savings_data, index=[\"crypto\",\"stock/bond\"], columns = ['amount'])\n",
    "\n",
    "# Display the savings_df DataFrame\n",
    "savings_df\n"
   ]
  },
  {
   "cell_type": "markdown",
   "metadata": {},
   "source": [
    "#### Step 3: Use the `savings_df` DataFrame to plot a pie chart that visualizes the composition of the member’s portfolio. The y-axis of the pie chart uses `amount`. Be sure to add a title."
   ]
  },
  {
   "cell_type": "code",
   "execution_count": 53,
   "metadata": {},
   "outputs": [
    {
     "data": {
      "text/plain": [
       "<AxesSubplot:title={'center':'Portfolio Composition'}, ylabel='amount'>"
      ]
     },
     "execution_count": 53,
     "metadata": {},
     "output_type": "execute_result"
    },
    {
     "data": {
      "image/png": "[encoded data removed]",
      "text/plain": [
       "<Figure size 432x288 with 1 Axes>"
      ]
     },
     "metadata": {},
     "output_type": "display_data"
    }
   ],
   "source": [
    "# Plot the total value of the member's portfolio (crypto and stock/bond) in a pie chart\n",
    "savings_df.plot.pie(title=\"Portfolio Composition\", y='amount')\n"
   ]
  },
  {
   "cell_type": "markdown",
   "metadata": {},
   "source": [
    "#### Step 4: Using Python, determine if the current portfolio has enough to create an emergency fund as part of the member’s financial plan. Ideally, an emergency fund should equal to three times the member’s monthly income. To do this, implement the following steps:\n",
    "\n",
    "Step 1. Create a variable named `emergency_fund_value`, and set it equal to three times the value of the member’s `monthly_income` of 12000. (You set this earlier in Part 1).\n",
    "\n",
    "Step 2. Create a series of three if statements to determine if the member’s total portfolio is large enough to fund the emergency portfolio:\n",
    "\n",
    "* If the total portfolio value is greater than the emergency fund value, display a message congratulating the member for having enough money in this fund.\n",
    "\n",
    "* Else if the total portfolio value is equal to the emergency fund value, display a message congratulating the member on reaching this important financial goal.\n",
    "\n",
    "* Else the total portfolio is less than the emergency fund value, so display a message showing how many dollars away the member is from reaching the goal. (Subtract the total portfolio value from the emergency fund value.)\n"
   ]
  },
  {
   "cell_type": "markdown",
   "metadata": {},
   "source": [
    "##### Step 4-1: Create a variable named `emergency_fund_value`, and set it equal to three times the value of the member’s `monthly_income` of 12000. (You set this earlier in Part 1)."
   ]
  },
  {
   "cell_type": "code",
   "execution_count": 63,
   "metadata": {},
   "outputs": [
    {
     "data": {
      "text/plain": [
       "36000"
      ]
     },
     "execution_count": 63,
     "metadata": {},
     "output_type": "execute_result"
    }
   ],
   "source": [
    "# Create a variable named emergency_fund_value\n",
    "emergency_fund_value = 3* monthly_income\n",
    "emergency_fund_value\n"
   ]
  },
  {
   "cell_type": "markdown",
   "metadata": {},
   "source": [
    "##### Step 4-2: Create a series of three if statements to determine if the member’s total portfolio is large enough to fund the emergency portfolio:\n",
    "\n",
    "* If the total portfolio value is greater than the emergency fund value, display a message congratulating the member for having enough money in this fund.\n",
    "\n",
    "* Else if the total portfolio value is equal to the emergency fund value, display a message congratulating the member on reaching this important financial goal.\n",
    "\n",
    "* Else the total portfolio is less than the emergency fund value, so display a message showing how many dollars away the member is from reaching the goal. (Subtract the total portfolio value from the emergency fund value.)"
   ]
  },
  {
   "cell_type": "code",
   "execution_count": 64,
   "metadata": {},
   "outputs": [
    {
     "name": "stdout",
     "output_type": "stream",
     "text": [
      "Congratulations! Your portfolio covers your emergency needs.\n"
     ]
    }
   ],
   "source": [
    "# Evaluate the possibility of creating an emergency fund with 3 conditions:\n",
    "if total_portfolio > emergency_fund_value:\n",
    "    print(f\"Congratulations! Your portfolio covers your emergency needs.\")\n",
    "elif total_portfolio == emergency_fund_value:\n",
    "    print(f\"Congratulations! You've reached an important financial goal; your portfolio equals your emegrency needs.\")\n",
    "else:\n",
    "    print(f\"Keep on saving, you are ${(emergency_fund_value-total_portfolio): .2f} from reaching your financial goal.\")\n"
   ]
  },
  {
   "cell_type": "markdown",
   "metadata": {},
   "source": [
    "## Part 2: Create a Financial Planner for Retirement"
   ]
  },
  {
   "cell_type": "markdown",
   "metadata": {},
   "source": [
    "### Create the Monte Carlo Simulation\n",
    "\n",
    "In this section, you’ll use the MCForecastTools library to create a Monte Carlo simulation for the member’s savings portfolio. To do this, complete the following steps:\n",
    "\n",
    "1. Make an API call via the Alpaca SDK to get 3 years of historical closing prices for a traditional 60/40 portfolio split: 60% stocks (SPY) and 40% bonds (AGG).\n",
    "\n",
    "2. Run a Monte Carlo simulation of 500 samples and 30 years for the 60/40 portfolio, and then plot the results.The following image shows the overlay line plot resulting from a simulation with these characteristics. However, because a random number generator is used to run each live Monte Carlo simulation, your image will differ slightly from this exact image:\n",
    "\n",
    "![A screenshot depicts the resulting plot.](Images/5-4-monte-carlo-line-plot.png)\n",
    "\n",
    "3. Plot the probability distribution of the Monte Carlo simulation. Plot the probability distribution of the Monte Carlo simulation. The following image shows the histogram plot resulting from a simulation with these characteristics. However, because a random number generator is used to run each live Monte Carlo simulation, your image will differ slightly from this exact image:\n",
    "\n",
    "![A screenshot depicts the histogram plot.](Images/5-4-monte-carlo-histogram.png)\n",
    "\n",
    "4. Generate the summary statistics for the Monte Carlo simulation.\n",
    "\n"
   ]
  },
  {
   "cell_type": "markdown",
   "metadata": {},
   "source": [
    "#### Step 1: Make an API call via the Alpaca SDK to get 3 years of historical closing prices for a traditional 60/40 portfolio split: 60% stocks (SPY) and 40% bonds (AGG)."
   ]
  },
  {
   "cell_type": "code",
   "execution_count": 5,
   "metadata": {},
   "outputs": [],
   "source": [
    "# Set start and end dates of 3 years back from your current date\n",
    "# Alternatively, you can use an end date of 2020-08-07 and work 3 years back from that date \n",
    "start_date_monte = pd.Timestamp(\"2017-01-28\", tz=\"America/New_York\").isoformat()\n",
    "end_date_monte = pd.Timestamp(\"2022-01-27\", tz=\"America/New_York\").isoformat()\n",
    "\n",
    "# Set number of rows to 1000 to retrieve the maximum amount of rows\n",
    "limit_rows = 1000"
   ]
  },
  {
   "cell_type": "code",
   "execution_count": 6,
   "metadata": {},
   "outputs": [
    {
     "data": {
      "text/html": [
       "<div>\n",
       "<style scoped>\n",
       "    .dataframe tbody tr th:only-of-type {\n",
       "        vertical-align: middle;\n",
       "    }\n",
       "\n",
       "    .dataframe tbody tr th {\n",
       "        vertical-align: top;\n",
       "    }\n",
       "\n",
       "    .dataframe thead tr th {\n",
       "        text-align: left;\n",
       "    }\n",
       "\n",
       "    .dataframe thead tr:last-of-type th {\n",
       "        text-align: right;\n",
       "    }\n",
       "</style>\n",
       "<table border=\"1\" class=\"dataframe\">\n",
       "  <thead>\n",
       "    <tr>\n",
       "      <th></th>\n",
       "      <th colspan=\"5\" halign=\"left\">AOA</th>\n",
       "      <th colspan=\"5\" halign=\"left\">UPRO</th>\n",
       "    </tr>\n",
       "    <tr>\n",
       "      <th></th>\n",
       "      <th>open</th>\n",
       "      <th>high</th>\n",
       "      <th>low</th>\n",
       "      <th>close</th>\n",
       "      <th>volume</th>\n",
       "      <th>open</th>\n",
       "      <th>high</th>\n",
       "      <th>low</th>\n",
       "      <th>close</th>\n",
       "      <th>volume</th>\n",
       "    </tr>\n",
       "    <tr>\n",
       "      <th>time</th>\n",
       "      <th></th>\n",
       "      <th></th>\n",
       "      <th></th>\n",
       "      <th></th>\n",
       "      <th></th>\n",
       "      <th></th>\n",
       "      <th></th>\n",
       "      <th></th>\n",
       "      <th></th>\n",
       "      <th></th>\n",
       "    </tr>\n",
       "  </thead>\n",
       "  <tbody>\n",
       "    <tr>\n",
       "      <th>2018-02-07 00:00:00-05:00</th>\n",
       "      <td>53.91</td>\n",
       "      <td>54.270</td>\n",
       "      <td>53.6600</td>\n",
       "      <td>53.6600</td>\n",
       "      <td>115910.0</td>\n",
       "      <td>NaN</td>\n",
       "      <td>NaN</td>\n",
       "      <td>NaN</td>\n",
       "      <td>NaN</td>\n",
       "      <td>NaN</td>\n",
       "    </tr>\n",
       "    <tr>\n",
       "      <th>2018-02-08 00:00:00-05:00</th>\n",
       "      <td>53.72</td>\n",
       "      <td>53.730</td>\n",
       "      <td>52.2500</td>\n",
       "      <td>52.2500</td>\n",
       "      <td>107488.0</td>\n",
       "      <td>46.533</td>\n",
       "      <td>46.620</td>\n",
       "      <td>41.140</td>\n",
       "      <td>41.163</td>\n",
       "      <td>11611945.0</td>\n",
       "    </tr>\n",
       "    <tr>\n",
       "      <th>2018-02-09 00:00:00-05:00</th>\n",
       "      <td>52.63</td>\n",
       "      <td>52.981</td>\n",
       "      <td>51.5462</td>\n",
       "      <td>52.5600</td>\n",
       "      <td>133046.0</td>\n",
       "      <td>42.680</td>\n",
       "      <td>43.957</td>\n",
       "      <td>38.873</td>\n",
       "      <td>43.107</td>\n",
       "      <td>18225384.0</td>\n",
       "    </tr>\n",
       "    <tr>\n",
       "      <th>2018-02-12 00:00:00-05:00</th>\n",
       "      <td>53.03</td>\n",
       "      <td>53.510</td>\n",
       "      <td>52.8101</td>\n",
       "      <td>53.2800</td>\n",
       "      <td>66838.0</td>\n",
       "      <td>44.130</td>\n",
       "      <td>45.673</td>\n",
       "      <td>43.150</td>\n",
       "      <td>44.830</td>\n",
       "      <td>10294707.0</td>\n",
       "    </tr>\n",
       "    <tr>\n",
       "      <th>2018-02-13 00:00:00-05:00</th>\n",
       "      <td>53.22</td>\n",
       "      <td>53.420</td>\n",
       "      <td>53.0316</td>\n",
       "      <td>53.3319</td>\n",
       "      <td>134467.0</td>\n",
       "      <td>44.127</td>\n",
       "      <td>45.497</td>\n",
       "      <td>43.835</td>\n",
       "      <td>45.200</td>\n",
       "      <td>5661480.0</td>\n",
       "    </tr>\n",
       "  </tbody>\n",
       "</table>\n",
       "</div>"
      ],
      "text/plain": [
       "                             AOA                                        UPRO  \\\n",
       "                            open    high      low    close    volume    open   \n",
       "time                                                                           \n",
       "2018-02-07 00:00:00-05:00  53.91  54.270  53.6600  53.6600  115910.0     NaN   \n",
       "2018-02-08 00:00:00-05:00  53.72  53.730  52.2500  52.2500  107488.0  46.533   \n",
       "2018-02-09 00:00:00-05:00  52.63  52.981  51.5462  52.5600  133046.0  42.680   \n",
       "2018-02-12 00:00:00-05:00  53.03  53.510  52.8101  53.2800   66838.0  44.130   \n",
       "2018-02-13 00:00:00-05:00  53.22  53.420  53.0316  53.3319  134467.0  44.127   \n",
       "\n",
       "                                                               \n",
       "                             high     low   close      volume  \n",
       "time                                                           \n",
       "2018-02-07 00:00:00-05:00     NaN     NaN     NaN         NaN  \n",
       "2018-02-08 00:00:00-05:00  46.620  41.140  41.163  11611945.0  \n",
       "2018-02-09 00:00:00-05:00  43.957  38.873  43.107  18225384.0  \n",
       "2018-02-12 00:00:00-05:00  45.673  43.150  44.830  10294707.0  \n",
       "2018-02-13 00:00:00-05:00  45.497  43.835  45.200   5661480.0  "
      ]
     },
     "metadata": {},
     "output_type": "display_data"
    },
    {
     "data": {
      "text/html": [
       "<div>\n",
       "<style scoped>\n",
       "    .dataframe tbody tr th:only-of-type {\n",
       "        vertical-align: middle;\n",
       "    }\n",
       "\n",
       "    .dataframe tbody tr th {\n",
       "        vertical-align: top;\n",
       "    }\n",
       "\n",
       "    .dataframe thead tr th {\n",
       "        text-align: left;\n",
       "    }\n",
       "\n",
       "    .dataframe thead tr:last-of-type th {\n",
       "        text-align: right;\n",
       "    }\n",
       "</style>\n",
       "<table border=\"1\" class=\"dataframe\">\n",
       "  <thead>\n",
       "    <tr>\n",
       "      <th></th>\n",
       "      <th colspan=\"5\" halign=\"left\">AOA</th>\n",
       "      <th colspan=\"5\" halign=\"left\">UPRO</th>\n",
       "    </tr>\n",
       "    <tr>\n",
       "      <th></th>\n",
       "      <th>open</th>\n",
       "      <th>high</th>\n",
       "      <th>low</th>\n",
       "      <th>close</th>\n",
       "      <th>volume</th>\n",
       "      <th>open</th>\n",
       "      <th>high</th>\n",
       "      <th>low</th>\n",
       "      <th>close</th>\n",
       "      <th>volume</th>\n",
       "    </tr>\n",
       "    <tr>\n",
       "      <th>time</th>\n",
       "      <th></th>\n",
       "      <th></th>\n",
       "      <th></th>\n",
       "      <th></th>\n",
       "      <th></th>\n",
       "      <th></th>\n",
       "      <th></th>\n",
       "      <th></th>\n",
       "      <th></th>\n",
       "      <th></th>\n",
       "    </tr>\n",
       "  </thead>\n",
       "  <tbody>\n",
       "    <tr>\n",
       "      <th>2022-01-21 00:00:00-05:00</th>\n",
       "      <td>70.16</td>\n",
       "      <td>70.3095</td>\n",
       "      <td>69.300</td>\n",
       "      <td>69.32</td>\n",
       "      <td>143244.0</td>\n",
       "      <td>62.68</td>\n",
       "      <td>63.7000</td>\n",
       "      <td>59.430</td>\n",
       "      <td>59.46</td>\n",
       "      <td>22566971.0</td>\n",
       "    </tr>\n",
       "    <tr>\n",
       "      <th>2022-01-24 00:00:00-05:00</th>\n",
       "      <td>68.68</td>\n",
       "      <td>69.1700</td>\n",
       "      <td>67.230</td>\n",
       "      <td>69.02</td>\n",
       "      <td>473386.0</td>\n",
       "      <td>57.02</td>\n",
       "      <td>60.4012</td>\n",
       "      <td>52.415</td>\n",
       "      <td>60.21</td>\n",
       "      <td>25582726.0</td>\n",
       "    </tr>\n",
       "    <tr>\n",
       "      <th>2022-01-25 00:00:00-05:00</th>\n",
       "      <td>68.48</td>\n",
       "      <td>69.2000</td>\n",
       "      <td>67.870</td>\n",
       "      <td>68.65</td>\n",
       "      <td>395455.0</td>\n",
       "      <td>57.40</td>\n",
       "      <td>60.1350</td>\n",
       "      <td>55.000</td>\n",
       "      <td>58.00</td>\n",
       "      <td>15669971.0</td>\n",
       "    </tr>\n",
       "    <tr>\n",
       "      <th>2022-01-26 00:00:00-05:00</th>\n",
       "      <td>69.29</td>\n",
       "      <td>69.5800</td>\n",
       "      <td>68.000</td>\n",
       "      <td>68.25</td>\n",
       "      <td>206620.0</td>\n",
       "      <td>60.43</td>\n",
       "      <td>61.7900</td>\n",
       "      <td>55.740</td>\n",
       "      <td>57.58</td>\n",
       "      <td>20031769.0</td>\n",
       "    </tr>\n",
       "    <tr>\n",
       "      <th>2022-01-27 00:00:00-05:00</th>\n",
       "      <td>68.89</td>\n",
       "      <td>69.1000</td>\n",
       "      <td>67.921</td>\n",
       "      <td>68.01</td>\n",
       "      <td>111678.0</td>\n",
       "      <td>59.44</td>\n",
       "      <td>60.8000</td>\n",
       "      <td>55.970</td>\n",
       "      <td>56.71</td>\n",
       "      <td>17527217.0</td>\n",
       "    </tr>\n",
       "  </tbody>\n",
       "</table>\n",
       "</div>"
      ],
      "text/plain": [
       "                             AOA                                     UPRO  \\\n",
       "                            open     high     low  close    volume   open   \n",
       "time                                                                        \n",
       "2022-01-21 00:00:00-05:00  70.16  70.3095  69.300  69.32  143244.0  62.68   \n",
       "2022-01-24 00:00:00-05:00  68.68  69.1700  67.230  69.02  473386.0  57.02   \n",
       "2022-01-25 00:00:00-05:00  68.48  69.2000  67.870  68.65  395455.0  57.40   \n",
       "2022-01-26 00:00:00-05:00  69.29  69.5800  68.000  68.25  206620.0  60.43   \n",
       "2022-01-27 00:00:00-05:00  68.89  69.1000  67.921  68.01  111678.0  59.44   \n",
       "\n",
       "                                                               \n",
       "                              high     low  close      volume  \n",
       "time                                                           \n",
       "2022-01-21 00:00:00-05:00  63.7000  59.430  59.46  22566971.0  \n",
       "2022-01-24 00:00:00-05:00  60.4012  52.415  60.21  25582726.0  \n",
       "2022-01-25 00:00:00-05:00  60.1350  55.000  58.00  15669971.0  \n",
       "2022-01-26 00:00:00-05:00  61.7900  55.740  57.58  20031769.0  \n",
       "2022-01-27 00:00:00-05:00  60.8000  55.970  56.71  17527217.0  "
      ]
     },
     "metadata": {},
     "output_type": "display_data"
    }
   ],
   "source": [
    "# Use the Alpaca get_barset function to make the API call to get the 3 years worth of pricing data\n",
    "# The tickers and timeframe parameters should have been set in Part 1 of this activity \n",
    "# The start and end dates should be updated with the information set above\n",
    "# Remember to add the df property to the end of the call so the response is returned as a DataFrame\n",
    "prices_monte = alpaca.get_barset(tickers,\n",
    "                                 timeframe,\n",
    "                                start = start_date_monte,\n",
    "                                end = end_date_monte,\n",
    "                                limit = limit_rows,\n",
    "                                ).df\n",
    "\n",
    "\n",
    "# Display both the first and last five rows of the DataFrame\n",
    "display(prices_monte.head())\n",
    "display(prices_monte.tail())\n"
   ]
  },
  {
   "cell_type": "markdown",
   "metadata": {},
   "source": [
    "#### Step 2: Run a Monte Carlo simulation of 500 samples and 30 years for the 60/40 portfolio, and then plot the results."
   ]
  },
  {
   "cell_type": "code",
   "execution_count": 7,
   "metadata": {},
   "outputs": [
    {
     "data": {
      "text/html": [
       "<div>\n",
       "<style scoped>\n",
       "    .dataframe tbody tr th:only-of-type {\n",
       "        vertical-align: middle;\n",
       "    }\n",
       "\n",
       "    .dataframe tbody tr th {\n",
       "        vertical-align: top;\n",
       "    }\n",
       "\n",
       "    .dataframe thead tr th {\n",
       "        text-align: left;\n",
       "    }\n",
       "\n",
       "    .dataframe thead tr:last-of-type th {\n",
       "        text-align: right;\n",
       "    }\n",
       "</style>\n",
       "<table border=\"1\" class=\"dataframe\">\n",
       "  <thead>\n",
       "    <tr>\n",
       "      <th></th>\n",
       "      <th colspan=\"6\" halign=\"left\">AOA</th>\n",
       "      <th colspan=\"6\" halign=\"left\">UPRO</th>\n",
       "    </tr>\n",
       "    <tr>\n",
       "      <th></th>\n",
       "      <th>open</th>\n",
       "      <th>high</th>\n",
       "      <th>low</th>\n",
       "      <th>close</th>\n",
       "      <th>volume</th>\n",
       "      <th>daily_return</th>\n",
       "      <th>open</th>\n",
       "      <th>high</th>\n",
       "      <th>low</th>\n",
       "      <th>close</th>\n",
       "      <th>volume</th>\n",
       "      <th>daily_return</th>\n",
       "    </tr>\n",
       "    <tr>\n",
       "      <th>time</th>\n",
       "      <th></th>\n",
       "      <th></th>\n",
       "      <th></th>\n",
       "      <th></th>\n",
       "      <th></th>\n",
       "      <th></th>\n",
       "      <th></th>\n",
       "      <th></th>\n",
       "      <th></th>\n",
       "      <th></th>\n",
       "      <th></th>\n",
       "      <th></th>\n",
       "    </tr>\n",
       "  </thead>\n",
       "  <tbody>\n",
       "    <tr>\n",
       "      <th>2018-02-07 00:00:00-05:00</th>\n",
       "      <td>53.91</td>\n",
       "      <td>54.270</td>\n",
       "      <td>53.6600</td>\n",
       "      <td>53.6600</td>\n",
       "      <td>115910.0</td>\n",
       "      <td>NaN</td>\n",
       "      <td>NaN</td>\n",
       "      <td>NaN</td>\n",
       "      <td>NaN</td>\n",
       "      <td>NaN</td>\n",
       "      <td>NaN</td>\n",
       "      <td>NaN</td>\n",
       "    </tr>\n",
       "    <tr>\n",
       "      <th>2018-02-08 00:00:00-05:00</th>\n",
       "      <td>53.72</td>\n",
       "      <td>53.730</td>\n",
       "      <td>52.2500</td>\n",
       "      <td>52.2500</td>\n",
       "      <td>107488.0</td>\n",
       "      <td>-0.026277</td>\n",
       "      <td>46.533</td>\n",
       "      <td>46.620</td>\n",
       "      <td>41.140</td>\n",
       "      <td>41.163</td>\n",
       "      <td>11611945.0</td>\n",
       "      <td>NaN</td>\n",
       "    </tr>\n",
       "    <tr>\n",
       "      <th>2018-02-09 00:00:00-05:00</th>\n",
       "      <td>52.63</td>\n",
       "      <td>52.981</td>\n",
       "      <td>51.5462</td>\n",
       "      <td>52.5600</td>\n",
       "      <td>133046.0</td>\n",
       "      <td>0.005933</td>\n",
       "      <td>42.680</td>\n",
       "      <td>43.957</td>\n",
       "      <td>38.873</td>\n",
       "      <td>43.107</td>\n",
       "      <td>18225384.0</td>\n",
       "      <td>0.047227</td>\n",
       "    </tr>\n",
       "    <tr>\n",
       "      <th>2018-02-12 00:00:00-05:00</th>\n",
       "      <td>53.03</td>\n",
       "      <td>53.510</td>\n",
       "      <td>52.8101</td>\n",
       "      <td>53.2800</td>\n",
       "      <td>66838.0</td>\n",
       "      <td>0.013699</td>\n",
       "      <td>44.130</td>\n",
       "      <td>45.673</td>\n",
       "      <td>43.150</td>\n",
       "      <td>44.830</td>\n",
       "      <td>10294707.0</td>\n",
       "      <td>0.039970</td>\n",
       "    </tr>\n",
       "    <tr>\n",
       "      <th>2018-02-13 00:00:00-05:00</th>\n",
       "      <td>53.22</td>\n",
       "      <td>53.420</td>\n",
       "      <td>53.0316</td>\n",
       "      <td>53.3319</td>\n",
       "      <td>134467.0</td>\n",
       "      <td>0.000974</td>\n",
       "      <td>44.127</td>\n",
       "      <td>45.497</td>\n",
       "      <td>43.835</td>\n",
       "      <td>45.200</td>\n",
       "      <td>5661480.0</td>\n",
       "      <td>0.008253</td>\n",
       "    </tr>\n",
       "  </tbody>\n",
       "</table>\n",
       "</div>"
      ],
      "text/plain": [
       "                             AOA                                      \\\n",
       "                            open    high      low    close    volume   \n",
       "time                                                                   \n",
       "2018-02-07 00:00:00-05:00  53.91  54.270  53.6600  53.6600  115910.0   \n",
       "2018-02-08 00:00:00-05:00  53.72  53.730  52.2500  52.2500  107488.0   \n",
       "2018-02-09 00:00:00-05:00  52.63  52.981  51.5462  52.5600  133046.0   \n",
       "2018-02-12 00:00:00-05:00  53.03  53.510  52.8101  53.2800   66838.0   \n",
       "2018-02-13 00:00:00-05:00  53.22  53.420  53.0316  53.3319  134467.0   \n",
       "\n",
       "                                          UPRO                          \\\n",
       "                          daily_return    open    high     low   close   \n",
       "time                                                                     \n",
       "2018-02-07 00:00:00-05:00          NaN     NaN     NaN     NaN     NaN   \n",
       "2018-02-08 00:00:00-05:00    -0.026277  46.533  46.620  41.140  41.163   \n",
       "2018-02-09 00:00:00-05:00     0.005933  42.680  43.957  38.873  43.107   \n",
       "2018-02-12 00:00:00-05:00     0.013699  44.130  45.673  43.150  44.830   \n",
       "2018-02-13 00:00:00-05:00     0.000974  44.127  45.497  43.835  45.200   \n",
       "\n",
       "                                                    \n",
       "                               volume daily_return  \n",
       "time                                                \n",
       "2018-02-07 00:00:00-05:00         NaN          NaN  \n",
       "2018-02-08 00:00:00-05:00  11611945.0          NaN  \n",
       "2018-02-09 00:00:00-05:00  18225384.0     0.047227  \n",
       "2018-02-12 00:00:00-05:00  10294707.0     0.039970  \n",
       "2018-02-13 00:00:00-05:00   5661480.0     0.008253  "
      ]
     },
     "execution_count": 7,
     "metadata": {},
     "output_type": "execute_result"
    }
   ],
   "source": [
    "# Configure the Monte Carlo simulation to forecast 30 years cumulative returns\n",
    "# The weights should be split 40% to AGG and 60% to SPY.\n",
    "# Run 500 samples.\n",
    "monte_avg_risk = MCSimulation(\n",
    "    portfolio_data = prices_monte,\n",
    "    weights = [.9,.1],\n",
    "    num_simulation = 500,\n",
    "    num_trading_days = 252*30\n",
    ")\n",
    "\n",
    "# Review the simulation input data\n",
    "monte_avg_risk.portfolio_data.head()\n"
   ]
  },
  {
   "cell_type": "code",
   "execution_count": 8,
   "metadata": {},
   "outputs": [
    {
     "name": "stdout",
     "output_type": "stream",
     "text": [
      "Running Monte Carlo simulation number 0.\n",
      "Running Monte Carlo simulation number 10.\n",
      "Running Monte Carlo simulation number 20.\n",
      "Running Monte Carlo simulation number 30.\n",
      "Running Monte Carlo simulation number 40.\n",
      "Running Monte Carlo simulation number 50.\n",
      "Running Monte Carlo simulation number 60.\n",
      "Running Monte Carlo simulation number 70.\n",
      "Running Monte Carlo simulation number 80.\n",
      "Running Monte Carlo simulation number 90.\n",
      "Running Monte Carlo simulation number 100.\n"
     ]
    },
    {
     "name": "stderr",
     "output_type": "stream",
     "text": [
      "/Users/nicocortese/Desktop/boot_camp/challenges/5_challenge_5/challenge_5_financial_planning/MCForecastTools.py:117: PerformanceWarning: DataFrame is highly fragmented.  This is usually the result of calling `frame.insert` many times, which has poor performance.  Consider joining all columns at once using pd.concat(axis=1) instead.  To get a de-fragmented frame, use `newframe = frame.copy()`\n",
      "  portfolio_cumulative_returns[n] = (1 + sim_df.fillna(0)).cumprod()\n"
     ]
    },
    {
     "name": "stdout",
     "output_type": "stream",
     "text": [
      "Running Monte Carlo simulation number 110.\n",
      "Running Monte Carlo simulation number 120.\n",
      "Running Monte Carlo simulation number 130.\n",
      "Running Monte Carlo simulation number 140.\n",
      "Running Monte Carlo simulation number 150.\n",
      "Running Monte Carlo simulation number 160.\n",
      "Running Monte Carlo simulation number 170.\n",
      "Running Monte Carlo simulation number 180.\n",
      "Running Monte Carlo simulation number 190.\n",
      "Running Monte Carlo simulation number 200.\n",
      "Running Monte Carlo simulation number 210.\n",
      "Running Monte Carlo simulation number 220.\n",
      "Running Monte Carlo simulation number 230.\n",
      "Running Monte Carlo simulation number 240.\n",
      "Running Monte Carlo simulation number 250.\n",
      "Running Monte Carlo simulation number 260.\n",
      "Running Monte Carlo simulation number 270.\n",
      "Running Monte Carlo simulation number 280.\n",
      "Running Monte Carlo simulation number 290.\n",
      "Running Monte Carlo simulation number 300.\n",
      "Running Monte Carlo simulation number 310.\n",
      "Running Monte Carlo simulation number 320.\n",
      "Running Monte Carlo simulation number 330.\n",
      "Running Monte Carlo simulation number 340.\n",
      "Running Monte Carlo simulation number 350.\n",
      "Running Monte Carlo simulation number 360.\n",
      "Running Monte Carlo simulation number 370.\n",
      "Running Monte Carlo simulation number 380.\n",
      "Running Monte Carlo simulation number 390.\n",
      "Running Monte Carlo simulation number 400.\n",
      "Running Monte Carlo simulation number 410.\n",
      "Running Monte Carlo simulation number 420.\n",
      "Running Monte Carlo simulation number 430.\n",
      "Running Monte Carlo simulation number 440.\n",
      "Running Monte Carlo simulation number 450.\n",
      "Running Monte Carlo simulation number 460.\n",
      "Running Monte Carlo simulation number 470.\n",
      "Running Monte Carlo simulation number 480.\n",
      "Running Monte Carlo simulation number 490.\n"
     ]
    },
    {
     "data": {
      "text/html": [
       "<div>\n",
       "<style scoped>\n",
       "    .dataframe tbody tr th:only-of-type {\n",
       "        vertical-align: middle;\n",
       "    }\n",
       "\n",
       "    .dataframe tbody tr th {\n",
       "        vertical-align: top;\n",
       "    }\n",
       "\n",
       "    .dataframe thead th {\n",
       "        text-align: right;\n",
       "    }\n",
       "</style>\n",
       "<table border=\"1\" class=\"dataframe\">\n",
       "  <thead>\n",
       "    <tr style=\"text-align: right;\">\n",
       "      <th></th>\n",
       "      <th>0</th>\n",
       "      <th>1</th>\n",
       "      <th>2</th>\n",
       "      <th>3</th>\n",
       "      <th>4</th>\n",
       "      <th>5</th>\n",
       "      <th>6</th>\n",
       "      <th>7</th>\n",
       "      <th>8</th>\n",
       "      <th>9</th>\n",
       "      <th>...</th>\n",
       "      <th>490</th>\n",
       "      <th>491</th>\n",
       "      <th>492</th>\n",
       "      <th>493</th>\n",
       "      <th>494</th>\n",
       "      <th>495</th>\n",
       "      <th>496</th>\n",
       "      <th>497</th>\n",
       "      <th>498</th>\n",
       "      <th>499</th>\n",
       "    </tr>\n",
       "  </thead>\n",
       "  <tbody>\n",
       "    <tr>\n",
       "      <th>0</th>\n",
       "      <td>1.000000</td>\n",
       "      <td>1.000000</td>\n",
       "      <td>1.000000</td>\n",
       "      <td>1.000000</td>\n",
       "      <td>1.000000</td>\n",
       "      <td>1.000000</td>\n",
       "      <td>1.000000</td>\n",
       "      <td>1.000000</td>\n",
       "      <td>1.000000</td>\n",
       "      <td>1.000000</td>\n",
       "      <td>...</td>\n",
       "      <td>1.000000</td>\n",
       "      <td>1.000000</td>\n",
       "      <td>1.000000</td>\n",
       "      <td>1.000000</td>\n",
       "      <td>1.000000</td>\n",
       "      <td>1.000000</td>\n",
       "      <td>1.000000</td>\n",
       "      <td>1.000000</td>\n",
       "      <td>1.000000</td>\n",
       "      <td>1.000000</td>\n",
       "    </tr>\n",
       "    <tr>\n",
       "      <th>1</th>\n",
       "      <td>0.986083</td>\n",
       "      <td>1.006512</td>\n",
       "      <td>0.996870</td>\n",
       "      <td>1.018099</td>\n",
       "      <td>1.009874</td>\n",
       "      <td>0.990186</td>\n",
       "      <td>0.990666</td>\n",
       "      <td>0.990051</td>\n",
       "      <td>1.000387</td>\n",
       "      <td>0.999766</td>\n",
       "      <td>...</td>\n",
       "      <td>0.979518</td>\n",
       "      <td>1.005357</td>\n",
       "      <td>1.013729</td>\n",
       "      <td>1.024374</td>\n",
       "      <td>1.010300</td>\n",
       "      <td>0.994574</td>\n",
       "      <td>1.007525</td>\n",
       "      <td>1.018459</td>\n",
       "      <td>0.983554</td>\n",
       "      <td>0.998995</td>\n",
       "    </tr>\n",
       "    <tr>\n",
       "      <th>2</th>\n",
       "      <td>0.982670</td>\n",
       "      <td>0.993091</td>\n",
       "      <td>1.005469</td>\n",
       "      <td>1.016150</td>\n",
       "      <td>1.013347</td>\n",
       "      <td>0.980174</td>\n",
       "      <td>1.001708</td>\n",
       "      <td>0.992913</td>\n",
       "      <td>0.995960</td>\n",
       "      <td>1.010318</td>\n",
       "      <td>...</td>\n",
       "      <td>0.967694</td>\n",
       "      <td>1.001797</td>\n",
       "      <td>1.017153</td>\n",
       "      <td>1.031153</td>\n",
       "      <td>0.991903</td>\n",
       "      <td>0.995576</td>\n",
       "      <td>1.013904</td>\n",
       "      <td>1.017183</td>\n",
       "      <td>0.984225</td>\n",
       "      <td>1.008703</td>\n",
       "    </tr>\n",
       "    <tr>\n",
       "      <th>3</th>\n",
       "      <td>0.972552</td>\n",
       "      <td>0.999122</td>\n",
       "      <td>0.999778</td>\n",
       "      <td>1.006322</td>\n",
       "      <td>0.997260</td>\n",
       "      <td>0.981505</td>\n",
       "      <td>1.014497</td>\n",
       "      <td>0.971054</td>\n",
       "      <td>0.993201</td>\n",
       "      <td>1.001690</td>\n",
       "      <td>...</td>\n",
       "      <td>0.962084</td>\n",
       "      <td>0.986624</td>\n",
       "      <td>1.027878</td>\n",
       "      <td>1.040286</td>\n",
       "      <td>0.976450</td>\n",
       "      <td>1.015700</td>\n",
       "      <td>0.991062</td>\n",
       "      <td>1.019816</td>\n",
       "      <td>0.978164</td>\n",
       "      <td>1.029134</td>\n",
       "    </tr>\n",
       "    <tr>\n",
       "      <th>4</th>\n",
       "      <td>0.966377</td>\n",
       "      <td>0.995133</td>\n",
       "      <td>0.996408</td>\n",
       "      <td>1.003135</td>\n",
       "      <td>0.999478</td>\n",
       "      <td>0.985615</td>\n",
       "      <td>1.024843</td>\n",
       "      <td>0.967328</td>\n",
       "      <td>0.997193</td>\n",
       "      <td>1.000738</td>\n",
       "      <td>...</td>\n",
       "      <td>0.949793</td>\n",
       "      <td>0.967232</td>\n",
       "      <td>1.028797</td>\n",
       "      <td>1.041127</td>\n",
       "      <td>0.960928</td>\n",
       "      <td>1.018932</td>\n",
       "      <td>0.978722</td>\n",
       "      <td>1.019162</td>\n",
       "      <td>0.985180</td>\n",
       "      <td>1.031617</td>\n",
       "    </tr>\n",
       "    <tr>\n",
       "      <th>...</th>\n",
       "      <td>...</td>\n",
       "      <td>...</td>\n",
       "      <td>...</td>\n",
       "      <td>...</td>\n",
       "      <td>...</td>\n",
       "      <td>...</td>\n",
       "      <td>...</td>\n",
       "      <td>...</td>\n",
       "      <td>...</td>\n",
       "      <td>...</td>\n",
       "      <td>...</td>\n",
       "      <td>...</td>\n",
       "      <td>...</td>\n",
       "      <td>...</td>\n",
       "      <td>...</td>\n",
       "      <td>...</td>\n",
       "      <td>...</td>\n",
       "      <td>...</td>\n",
       "      <td>...</td>\n",
       "      <td>...</td>\n",
       "      <td>...</td>\n",
       "    </tr>\n",
       "    <tr>\n",
       "      <th>7556</th>\n",
       "      <td>236.741643</td>\n",
       "      <td>56.077172</td>\n",
       "      <td>72.936054</td>\n",
       "      <td>12.066040</td>\n",
       "      <td>158.794449</td>\n",
       "      <td>9.542373</td>\n",
       "      <td>40.532159</td>\n",
       "      <td>45.386731</td>\n",
       "      <td>85.129576</td>\n",
       "      <td>59.893842</td>\n",
       "      <td>...</td>\n",
       "      <td>27.201972</td>\n",
       "      <td>7.303675</td>\n",
       "      <td>48.872028</td>\n",
       "      <td>53.380717</td>\n",
       "      <td>32.449268</td>\n",
       "      <td>89.801628</td>\n",
       "      <td>15.372329</td>\n",
       "      <td>33.885788</td>\n",
       "      <td>72.278426</td>\n",
       "      <td>14.276878</td>\n",
       "    </tr>\n",
       "    <tr>\n",
       "      <th>7557</th>\n",
       "      <td>235.352224</td>\n",
       "      <td>55.365517</td>\n",
       "      <td>73.313332</td>\n",
       "      <td>12.037621</td>\n",
       "      <td>158.458779</td>\n",
       "      <td>9.330873</td>\n",
       "      <td>39.671725</td>\n",
       "      <td>45.709546</td>\n",
       "      <td>85.777682</td>\n",
       "      <td>60.490641</td>\n",
       "      <td>...</td>\n",
       "      <td>26.790110</td>\n",
       "      <td>7.163780</td>\n",
       "      <td>50.139255</td>\n",
       "      <td>53.544770</td>\n",
       "      <td>31.964133</td>\n",
       "      <td>88.689313</td>\n",
       "      <td>15.066838</td>\n",
       "      <td>34.079933</td>\n",
       "      <td>72.672871</td>\n",
       "      <td>14.079126</td>\n",
       "    </tr>\n",
       "    <tr>\n",
       "      <th>7558</th>\n",
       "      <td>230.407252</td>\n",
       "      <td>55.360039</td>\n",
       "      <td>73.901184</td>\n",
       "      <td>12.150591</td>\n",
       "      <td>158.617704</td>\n",
       "      <td>9.334464</td>\n",
       "      <td>39.842388</td>\n",
       "      <td>45.954600</td>\n",
       "      <td>87.458495</td>\n",
       "      <td>59.899742</td>\n",
       "      <td>...</td>\n",
       "      <td>26.636550</td>\n",
       "      <td>7.279535</td>\n",
       "      <td>50.915443</td>\n",
       "      <td>53.593275</td>\n",
       "      <td>31.552333</td>\n",
       "      <td>89.277119</td>\n",
       "      <td>14.828173</td>\n",
       "      <td>34.442182</td>\n",
       "      <td>72.026572</td>\n",
       "      <td>14.503703</td>\n",
       "    </tr>\n",
       "    <tr>\n",
       "      <th>7559</th>\n",
       "      <td>226.486270</td>\n",
       "      <td>53.801781</td>\n",
       "      <td>73.948056</td>\n",
       "      <td>11.988518</td>\n",
       "      <td>160.369095</td>\n",
       "      <td>9.131564</td>\n",
       "      <td>39.628756</td>\n",
       "      <td>45.937481</td>\n",
       "      <td>88.086831</td>\n",
       "      <td>59.723808</td>\n",
       "      <td>...</td>\n",
       "      <td>26.550708</td>\n",
       "      <td>7.450218</td>\n",
       "      <td>50.806191</td>\n",
       "      <td>53.116793</td>\n",
       "      <td>32.193950</td>\n",
       "      <td>89.354814</td>\n",
       "      <td>14.931878</td>\n",
       "      <td>34.529100</td>\n",
       "      <td>72.111805</td>\n",
       "      <td>14.475318</td>\n",
       "    </tr>\n",
       "    <tr>\n",
       "      <th>7560</th>\n",
       "      <td>231.224010</td>\n",
       "      <td>53.742963</td>\n",
       "      <td>73.888431</td>\n",
       "      <td>11.604760</td>\n",
       "      <td>161.480722</td>\n",
       "      <td>9.331259</td>\n",
       "      <td>38.771432</td>\n",
       "      <td>45.985264</td>\n",
       "      <td>88.817424</td>\n",
       "      <td>59.961722</td>\n",
       "      <td>...</td>\n",
       "      <td>26.550677</td>\n",
       "      <td>7.466025</td>\n",
       "      <td>51.143175</td>\n",
       "      <td>52.898042</td>\n",
       "      <td>32.195853</td>\n",
       "      <td>90.667211</td>\n",
       "      <td>14.744307</td>\n",
       "      <td>34.834530</td>\n",
       "      <td>71.668185</td>\n",
       "      <td>14.432129</td>\n",
       "    </tr>\n",
       "  </tbody>\n",
       "</table>\n",
       "<p>7561 rows × 500 columns</p>\n",
       "</div>"
      ],
      "text/plain": [
       "             0          1          2          3           4         5    \\\n",
       "0       1.000000   1.000000   1.000000   1.000000    1.000000  1.000000   \n",
       "1       0.986083   1.006512   0.996870   1.018099    1.009874  0.990186   \n",
       "2       0.982670   0.993091   1.005469   1.016150    1.013347  0.980174   \n",
       "3       0.972552   0.999122   0.999778   1.006322    0.997260  0.981505   \n",
       "4       0.966377   0.995133   0.996408   1.003135    0.999478  0.985615   \n",
       "...          ...        ...        ...        ...         ...       ...   \n",
       "7556  236.741643  56.077172  72.936054  12.066040  158.794449  9.542373   \n",
       "7557  235.352224  55.365517  73.313332  12.037621  158.458779  9.330873   \n",
       "7558  230.407252  55.360039  73.901184  12.150591  158.617704  9.334464   \n",
       "7559  226.486270  53.801781  73.948056  11.988518  160.369095  9.131564   \n",
       "7560  231.224010  53.742963  73.888431  11.604760  161.480722  9.331259   \n",
       "\n",
       "            6          7          8          9    ...        490       491  \\\n",
       "0      1.000000   1.000000   1.000000   1.000000  ...   1.000000  1.000000   \n",
       "1      0.990666   0.990051   1.000387   0.999766  ...   0.979518  1.005357   \n",
       "2      1.001708   0.992913   0.995960   1.010318  ...   0.967694  1.001797   \n",
       "3      1.014497   0.971054   0.993201   1.001690  ...   0.962084  0.986624   \n",
       "4      1.024843   0.967328   0.997193   1.000738  ...   0.949793  0.967232   \n",
       "...         ...        ...        ...        ...  ...        ...       ...   \n",
       "7556  40.532159  45.386731  85.129576  59.893842  ...  27.201972  7.303675   \n",
       "7557  39.671725  45.709546  85.777682  60.490641  ...  26.790110  7.163780   \n",
       "7558  39.842388  45.954600  87.458495  59.899742  ...  26.636550  7.279535   \n",
       "7559  39.628756  45.937481  88.086831  59.723808  ...  26.550708  7.450218   \n",
       "7560  38.771432  45.985264  88.817424  59.961722  ...  26.550677  7.466025   \n",
       "\n",
       "            492        493        494        495        496        497  \\\n",
       "0      1.000000   1.000000   1.000000   1.000000   1.000000   1.000000   \n",
       "1      1.013729   1.024374   1.010300   0.994574   1.007525   1.018459   \n",
       "2      1.017153   1.031153   0.991903   0.995576   1.013904   1.017183   \n",
       "3      1.027878   1.040286   0.976450   1.015700   0.991062   1.019816   \n",
       "4      1.028797   1.041127   0.960928   1.018932   0.978722   1.019162   \n",
       "...         ...        ...        ...        ...        ...        ...   \n",
       "7556  48.872028  53.380717  32.449268  89.801628  15.372329  33.885788   \n",
       "7557  50.139255  53.544770  31.964133  88.689313  15.066838  34.079933   \n",
       "7558  50.915443  53.593275  31.552333  89.277119  14.828173  34.442182   \n",
       "7559  50.806191  53.116793  32.193950  89.354814  14.931878  34.529100   \n",
       "7560  51.143175  52.898042  32.195853  90.667211  14.744307  34.834530   \n",
       "\n",
       "            498        499  \n",
       "0      1.000000   1.000000  \n",
       "1      0.983554   0.998995  \n",
       "2      0.984225   1.008703  \n",
       "3      0.978164   1.029134  \n",
       "4      0.985180   1.031617  \n",
       "...         ...        ...  \n",
       "7556  72.278426  14.276878  \n",
       "7557  72.672871  14.079126  \n",
       "7558  72.026572  14.503703  \n",
       "7559  72.111805  14.475318  \n",
       "7560  71.668185  14.432129  \n",
       "\n",
       "[7561 rows x 500 columns]"
      ]
     },
     "execution_count": 8,
     "metadata": {},
     "output_type": "execute_result"
    }
   ],
   "source": [
    "# Run the Monte Carlo simulation to forecast 30 years cumulative returns\n",
    "monte_avg_risk.calc_cumulative_return()\n"
   ]
  },
  {
   "cell_type": "raw",
   "metadata": {},
   "source": []
  },
  {
   "cell_type": "code",
   "execution_count": 9,
   "metadata": {},
   "outputs": [
    {
     "data": {
      "image/png": "[encoded data removed]",
      "text/plain": [
       "<Figure size 432x288 with 1 Axes>"
      ]
     },
     "metadata": {
      "needs_background": "light"
     },
     "output_type": "display_data"
    }
   ],
   "source": [
    "# Visualize the 30-year Monte Carlo simulation by creating an\n",
    "# overlay line plot\n",
    "avg_risk_line_plot = monte_avg_risk.plot_simulation()\n"
   ]
  },
  {
   "cell_type": "markdown",
   "metadata": {},
   "source": [
    "#### Step 3: Plot the probability distribution of the Monte Carlo simulation."
   ]
  },
  {
   "cell_type": "code",
   "execution_count": 10,
   "metadata": {},
   "outputs": [
    {
     "data": {
      "image/png": "[encoded data removed]",
      "text/plain": [
       "<Figure size 432x288 with 1 Axes>"
      ]
     },
     "metadata": {
      "needs_background": "light"
     },
     "output_type": "display_data"
    }
   ],
   "source": [
    "# Visualize the probability distribution of the 30-year Monte Carlo simulation \n",
    "# by plotting a histogram\n",
    "avg_risk_distribution_plot = monte_avg_risk.plot_distribution()\n"
   ]
  },
  {
   "cell_type": "markdown",
   "metadata": {},
   "source": [
    "#### Step 4: Generate the summary statistics for the Monte Carlo simulation."
   ]
  },
  {
   "cell_type": "code",
   "execution_count": 11,
   "metadata": {},
   "outputs": [
    {
     "data": {
      "text/plain": [
       "count           500.000000\n",
       "mean             52.896008\n",
       "std              69.223595\n",
       "min               1.576821\n",
       "25%              14.385388\n",
       "50%              30.824136\n",
       "75%              62.946000\n",
       "max             676.918392\n",
       "95% CI Lower      4.198494\n",
       "95% CI Upper    239.699401\n",
       "Name: 7560, dtype: float64"
      ]
     },
     "execution_count": 11,
     "metadata": {},
     "output_type": "execute_result"
    }
   ],
   "source": [
    "# Generate summary statistics from the 30-year Monte Carlo simulation results\n",
    "# Save the results as a variable\n",
    "avg_risk_table = monte_avg_risk.summarize_cumulative_return()\n",
    "\n",
    "\n",
    "# Review the 30-year Monte Carlo summary statistics\n",
    "avg_risk_table"
   ]
  },
  {
   "cell_type": "markdown",
   "metadata": {},
   "source": [
    "### Analyze the Retirement Portfolio Forecasts\n",
    "\n",
    "Using the current value of only the stock and bond portion of the member's portfolio and the summary statistics that you generated from the Monte Carlo simulation, answer the following question in your Jupyter notebook:\n",
    "\n",
    "-  What are the lower and upper bounds for the expected value of the portfolio with a 95% confidence interval?\n"
   ]
  },
  {
   "cell_type": "code",
   "execution_count": 79,
   "metadata": {},
   "outputs": [
    {
     "data": {
      "text/plain": [
       "69783.7"
      ]
     },
     "execution_count": 79,
     "metadata": {},
     "output_type": "execute_result"
    }
   ],
   "source": [
    "# Print the current balance of the stock and bond portion of the members portfolio\n",
    "total_stocks_bonds\n"
   ]
  },
  {
   "cell_type": "code",
   "execution_count": 15,
   "metadata": {},
   "outputs": [
    {
     "name": "stdout",
     "output_type": "stream",
     "text": [
      "There is a 95% chance that this avg risk portfolio, starting with $70,000, will end within in the range of $ 293895 and $ 16778958 over the next 30 years.\n"
     ]
    }
   ],
   "source": [
    "# Use the lower and upper `95%` confidence intervals to calculate the range of the possible outcomes for the current stock/bond portfolio\n",
    "ci_lower_thirty_cumulative_return = avg_risk_table[8]*70000\n",
    "ci_upper_thirty_cumulative_return = avg_risk_table[9]*70000\n",
    "\n",
    "# Print the result of your calculations\n",
    "print(f\"There is a 95% chance that this avg risk portfolio, starting with $70,000,\"\n",
    "      f\" will end within in the range of\"\n",
    "      f\" ${ci_lower_thirty_cumulative_return: .0f} and ${ci_upper_thirty_cumulative_return: .0f} over the next 30 years.\")\n"
   ]
  },
  {
   "cell_type": "markdown",
   "metadata": {},
   "source": [
    "### Forecast Cumulative Returns in 10 Years\n",
    "\n",
    "The CTO of the credit union is impressed with your work on these planning tools but wonders if 30 years is a long time to wait until retirement. So, your next task is to adjust the retirement portfolio and run a new Monte Carlo simulation to find out if the changes will allow members to retire earlier.\n",
    "\n",
    "For this new Monte Carlo simulation, do the following: \n",
    "\n",
    "- Forecast the cumulative returns for 10 years from now. Because of the shortened investment horizon (30 years to 10 years), the portfolio needs to invest more heavily in the riskier asset&mdash;that is, stock&mdash;to help accumulate wealth for retirement. \n",
    "\n",
    "- Adjust the weights of the retirement portfolio so that the composition for the Monte Carlo simulation consists of 20% bonds and 80% stocks. \n",
    "\n",
    "- Run the simulation over 500 samples, and use the same data that the API call to Alpaca generated.\n",
    "\n",
    "- Based on the new Monte Carlo simulation, answer the following questions in your Jupyter notebook:\n",
    "\n",
    "    - Using the current value of only the stock and bond portion of the member's portfolio and the summary statistics that you generated from the new Monte Carlo simulation, what are the lower and upper bounds for the expected value of the portfolio (with the new weights) with a 95% confidence interval?\n",
    "\n",
    "    - Will weighting the portfolio more heavily toward stocks allow the credit union members to retire after only 10 years?\n"
   ]
  },
  {
   "cell_type": "code",
   "execution_count": 16,
   "metadata": {},
   "outputs": [
    {
     "data": {
      "text/html": [
       "<div>\n",
       "<style scoped>\n",
       "    .dataframe tbody tr th:only-of-type {\n",
       "        vertical-align: middle;\n",
       "    }\n",
       "\n",
       "    .dataframe tbody tr th {\n",
       "        vertical-align: top;\n",
       "    }\n",
       "\n",
       "    .dataframe thead tr th {\n",
       "        text-align: left;\n",
       "    }\n",
       "\n",
       "    .dataframe thead tr:last-of-type th {\n",
       "        text-align: right;\n",
       "    }\n",
       "</style>\n",
       "<table border=\"1\" class=\"dataframe\">\n",
       "  <thead>\n",
       "    <tr>\n",
       "      <th></th>\n",
       "      <th colspan=\"6\" halign=\"left\">AOA</th>\n",
       "      <th colspan=\"6\" halign=\"left\">UPRO</th>\n",
       "    </tr>\n",
       "    <tr>\n",
       "      <th></th>\n",
       "      <th>open</th>\n",
       "      <th>high</th>\n",
       "      <th>low</th>\n",
       "      <th>close</th>\n",
       "      <th>volume</th>\n",
       "      <th>daily_return</th>\n",
       "      <th>open</th>\n",
       "      <th>high</th>\n",
       "      <th>low</th>\n",
       "      <th>close</th>\n",
       "      <th>volume</th>\n",
       "      <th>daily_return</th>\n",
       "    </tr>\n",
       "    <tr>\n",
       "      <th>time</th>\n",
       "      <th></th>\n",
       "      <th></th>\n",
       "      <th></th>\n",
       "      <th></th>\n",
       "      <th></th>\n",
       "      <th></th>\n",
       "      <th></th>\n",
       "      <th></th>\n",
       "      <th></th>\n",
       "      <th></th>\n",
       "      <th></th>\n",
       "      <th></th>\n",
       "    </tr>\n",
       "  </thead>\n",
       "  <tbody>\n",
       "    <tr>\n",
       "      <th>2018-02-07 00:00:00-05:00</th>\n",
       "      <td>53.91</td>\n",
       "      <td>54.270</td>\n",
       "      <td>53.6600</td>\n",
       "      <td>53.6600</td>\n",
       "      <td>115910.0</td>\n",
       "      <td>NaN</td>\n",
       "      <td>NaN</td>\n",
       "      <td>NaN</td>\n",
       "      <td>NaN</td>\n",
       "      <td>NaN</td>\n",
       "      <td>NaN</td>\n",
       "      <td>NaN</td>\n",
       "    </tr>\n",
       "    <tr>\n",
       "      <th>2018-02-08 00:00:00-05:00</th>\n",
       "      <td>53.72</td>\n",
       "      <td>53.730</td>\n",
       "      <td>52.2500</td>\n",
       "      <td>52.2500</td>\n",
       "      <td>107488.0</td>\n",
       "      <td>-0.026277</td>\n",
       "      <td>46.533</td>\n",
       "      <td>46.620</td>\n",
       "      <td>41.140</td>\n",
       "      <td>41.163</td>\n",
       "      <td>11611945.0</td>\n",
       "      <td>NaN</td>\n",
       "    </tr>\n",
       "    <tr>\n",
       "      <th>2018-02-09 00:00:00-05:00</th>\n",
       "      <td>52.63</td>\n",
       "      <td>52.981</td>\n",
       "      <td>51.5462</td>\n",
       "      <td>52.5600</td>\n",
       "      <td>133046.0</td>\n",
       "      <td>0.005933</td>\n",
       "      <td>42.680</td>\n",
       "      <td>43.957</td>\n",
       "      <td>38.873</td>\n",
       "      <td>43.107</td>\n",
       "      <td>18225384.0</td>\n",
       "      <td>0.047227</td>\n",
       "    </tr>\n",
       "    <tr>\n",
       "      <th>2018-02-12 00:00:00-05:00</th>\n",
       "      <td>53.03</td>\n",
       "      <td>53.510</td>\n",
       "      <td>52.8101</td>\n",
       "      <td>53.2800</td>\n",
       "      <td>66838.0</td>\n",
       "      <td>0.013699</td>\n",
       "      <td>44.130</td>\n",
       "      <td>45.673</td>\n",
       "      <td>43.150</td>\n",
       "      <td>44.830</td>\n",
       "      <td>10294707.0</td>\n",
       "      <td>0.039970</td>\n",
       "    </tr>\n",
       "    <tr>\n",
       "      <th>2018-02-13 00:00:00-05:00</th>\n",
       "      <td>53.22</td>\n",
       "      <td>53.420</td>\n",
       "      <td>53.0316</td>\n",
       "      <td>53.3319</td>\n",
       "      <td>134467.0</td>\n",
       "      <td>0.000974</td>\n",
       "      <td>44.127</td>\n",
       "      <td>45.497</td>\n",
       "      <td>43.835</td>\n",
       "      <td>45.200</td>\n",
       "      <td>5661480.0</td>\n",
       "      <td>0.008253</td>\n",
       "    </tr>\n",
       "  </tbody>\n",
       "</table>\n",
       "</div>"
      ],
      "text/plain": [
       "                             AOA                                      \\\n",
       "                            open    high      low    close    volume   \n",
       "time                                                                   \n",
       "2018-02-07 00:00:00-05:00  53.91  54.270  53.6600  53.6600  115910.0   \n",
       "2018-02-08 00:00:00-05:00  53.72  53.730  52.2500  52.2500  107488.0   \n",
       "2018-02-09 00:00:00-05:00  52.63  52.981  51.5462  52.5600  133046.0   \n",
       "2018-02-12 00:00:00-05:00  53.03  53.510  52.8101  53.2800   66838.0   \n",
       "2018-02-13 00:00:00-05:00  53.22  53.420  53.0316  53.3319  134467.0   \n",
       "\n",
       "                                          UPRO                          \\\n",
       "                          daily_return    open    high     low   close   \n",
       "time                                                                     \n",
       "2018-02-07 00:00:00-05:00          NaN     NaN     NaN     NaN     NaN   \n",
       "2018-02-08 00:00:00-05:00    -0.026277  46.533  46.620  41.140  41.163   \n",
       "2018-02-09 00:00:00-05:00     0.005933  42.680  43.957  38.873  43.107   \n",
       "2018-02-12 00:00:00-05:00     0.013699  44.130  45.673  43.150  44.830   \n",
       "2018-02-13 00:00:00-05:00     0.000974  44.127  45.497  43.835  45.200   \n",
       "\n",
       "                                                    \n",
       "                               volume daily_return  \n",
       "time                                                \n",
       "2018-02-07 00:00:00-05:00         NaN          NaN  \n",
       "2018-02-08 00:00:00-05:00  11611945.0          NaN  \n",
       "2018-02-09 00:00:00-05:00  18225384.0     0.047227  \n",
       "2018-02-12 00:00:00-05:00  10294707.0     0.039970  \n",
       "2018-02-13 00:00:00-05:00   5661480.0     0.008253  "
      ]
     },
     "execution_count": 16,
     "metadata": {},
     "output_type": "execute_result"
    }
   ],
   "source": [
    "# Configure a Monte Carlo simulation to forecast 10 years cumulative returns\n",
    "# The weights should be split 20% to AGG and 80% to SPY.\n",
    "# Run 500 samples.\n",
    "monte_high_risk = MCSimulation(\n",
    "    portfolio_data = prices_monte,\n",
    "    weights = [.8,.2],\n",
    "    num_simulation = 500,\n",
    "    num_trading_days = 252*30\n",
    ")\n",
    "\n",
    "# Review the simulation input data\n",
    "monte_high_risk.portfolio_data.head()\n"
   ]
  },
  {
   "cell_type": "code",
   "execution_count": 17,
   "metadata": {},
   "outputs": [
    {
     "name": "stdout",
     "output_type": "stream",
     "text": [
      "Running Monte Carlo simulation number 0.\n",
      "Running Monte Carlo simulation number 10.\n",
      "Running Monte Carlo simulation number 20.\n",
      "Running Monte Carlo simulation number 30.\n",
      "Running Monte Carlo simulation number 40.\n",
      "Running Monte Carlo simulation number 50.\n",
      "Running Monte Carlo simulation number 60.\n",
      "Running Monte Carlo simulation number 70.\n",
      "Running Monte Carlo simulation number 80.\n",
      "Running Monte Carlo simulation number 90.\n",
      "Running Monte Carlo simulation number 100.\n"
     ]
    },
    {
     "name": "stderr",
     "output_type": "stream",
     "text": [
      "/Users/nicocortese/Desktop/boot_camp/challenges/5_challenge_5/challenge_5_financial_planning/MCForecastTools.py:117: PerformanceWarning: DataFrame is highly fragmented.  This is usually the result of calling `frame.insert` many times, which has poor performance.  Consider joining all columns at once using pd.concat(axis=1) instead.  To get a de-fragmented frame, use `newframe = frame.copy()`\n",
      "  portfolio_cumulative_returns[n] = (1 + sim_df.fillna(0)).cumprod()\n"
     ]
    },
    {
     "name": "stdout",
     "output_type": "stream",
     "text": [
      "Running Monte Carlo simulation number 110.\n",
      "Running Monte Carlo simulation number 120.\n",
      "Running Monte Carlo simulation number 130.\n",
      "Running Monte Carlo simulation number 140.\n",
      "Running Monte Carlo simulation number 150.\n",
      "Running Monte Carlo simulation number 160.\n",
      "Running Monte Carlo simulation number 170.\n",
      "Running Monte Carlo simulation number 180.\n",
      "Running Monte Carlo simulation number 190.\n",
      "Running Monte Carlo simulation number 200.\n",
      "Running Monte Carlo simulation number 210.\n",
      "Running Monte Carlo simulation number 220.\n",
      "Running Monte Carlo simulation number 230.\n",
      "Running Monte Carlo simulation number 240.\n",
      "Running Monte Carlo simulation number 250.\n",
      "Running Monte Carlo simulation number 260.\n",
      "Running Monte Carlo simulation number 270.\n",
      "Running Monte Carlo simulation number 280.\n",
      "Running Monte Carlo simulation number 290.\n",
      "Running Monte Carlo simulation number 300.\n",
      "Running Monte Carlo simulation number 310.\n",
      "Running Monte Carlo simulation number 320.\n",
      "Running Monte Carlo simulation number 330.\n",
      "Running Monte Carlo simulation number 340.\n",
      "Running Monte Carlo simulation number 350.\n",
      "Running Monte Carlo simulation number 360.\n",
      "Running Monte Carlo simulation number 370.\n",
      "Running Monte Carlo simulation number 380.\n",
      "Running Monte Carlo simulation number 390.\n",
      "Running Monte Carlo simulation number 400.\n",
      "Running Monte Carlo simulation number 410.\n",
      "Running Monte Carlo simulation number 420.\n",
      "Running Monte Carlo simulation number 430.\n",
      "Running Monte Carlo simulation number 440.\n",
      "Running Monte Carlo simulation number 450.\n",
      "Running Monte Carlo simulation number 460.\n",
      "Running Monte Carlo simulation number 470.\n",
      "Running Monte Carlo simulation number 480.\n",
      "Running Monte Carlo simulation number 490.\n"
     ]
    },
    {
     "data": {
      "text/html": [
       "<div>\n",
       "<style scoped>\n",
       "    .dataframe tbody tr th:only-of-type {\n",
       "        vertical-align: middle;\n",
       "    }\n",
       "\n",
       "    .dataframe tbody tr th {\n",
       "        vertical-align: top;\n",
       "    }\n",
       "\n",
       "    .dataframe thead th {\n",
       "        text-align: right;\n",
       "    }\n",
       "</style>\n",
       "<table border=\"1\" class=\"dataframe\">\n",
       "  <thead>\n",
       "    <tr style=\"text-align: right;\">\n",
       "      <th></th>\n",
       "      <th>0</th>\n",
       "      <th>1</th>\n",
       "      <th>2</th>\n",
       "      <th>3</th>\n",
       "      <th>4</th>\n",
       "      <th>5</th>\n",
       "      <th>6</th>\n",
       "      <th>7</th>\n",
       "      <th>8</th>\n",
       "      <th>9</th>\n",
       "      <th>...</th>\n",
       "      <th>490</th>\n",
       "      <th>491</th>\n",
       "      <th>492</th>\n",
       "      <th>493</th>\n",
       "      <th>494</th>\n",
       "      <th>495</th>\n",
       "      <th>496</th>\n",
       "      <th>497</th>\n",
       "      <th>498</th>\n",
       "      <th>499</th>\n",
       "    </tr>\n",
       "  </thead>\n",
       "  <tbody>\n",
       "    <tr>\n",
       "      <th>0</th>\n",
       "      <td>1.000000</td>\n",
       "      <td>1.000000</td>\n",
       "      <td>1.000000</td>\n",
       "      <td>1.000000</td>\n",
       "      <td>1.000000</td>\n",
       "      <td>1.000000</td>\n",
       "      <td>1.000000</td>\n",
       "      <td>1.000000</td>\n",
       "      <td>1.000000</td>\n",
       "      <td>1.000000</td>\n",
       "      <td>...</td>\n",
       "      <td>1.000000</td>\n",
       "      <td>1.000000</td>\n",
       "      <td>1.000000</td>\n",
       "      <td>1.000000</td>\n",
       "      <td>1.000000</td>\n",
       "      <td>1.000000</td>\n",
       "      <td>1.000000</td>\n",
       "      <td>1.000000</td>\n",
       "      <td>1.000000</td>\n",
       "      <td>1.000000</td>\n",
       "    </tr>\n",
       "    <tr>\n",
       "      <th>1</th>\n",
       "      <td>1.040585</td>\n",
       "      <td>0.998624</td>\n",
       "      <td>0.986677</td>\n",
       "      <td>1.003136</td>\n",
       "      <td>0.972204</td>\n",
       "      <td>1.041794</td>\n",
       "      <td>0.996746</td>\n",
       "      <td>1.001793</td>\n",
       "      <td>0.994933</td>\n",
       "      <td>1.022109</td>\n",
       "      <td>...</td>\n",
       "      <td>1.002087</td>\n",
       "      <td>0.996487</td>\n",
       "      <td>0.964226</td>\n",
       "      <td>1.020598</td>\n",
       "      <td>1.014279</td>\n",
       "      <td>0.984954</td>\n",
       "      <td>1.010983</td>\n",
       "      <td>1.000333</td>\n",
       "      <td>0.998957</td>\n",
       "      <td>1.009250</td>\n",
       "    </tr>\n",
       "    <tr>\n",
       "      <th>2</th>\n",
       "      <td>1.024479</td>\n",
       "      <td>0.997819</td>\n",
       "      <td>1.001978</td>\n",
       "      <td>1.011584</td>\n",
       "      <td>0.994513</td>\n",
       "      <td>1.050385</td>\n",
       "      <td>0.984968</td>\n",
       "      <td>1.027139</td>\n",
       "      <td>0.983268</td>\n",
       "      <td>1.039494</td>\n",
       "      <td>...</td>\n",
       "      <td>1.030922</td>\n",
       "      <td>0.954697</td>\n",
       "      <td>0.980748</td>\n",
       "      <td>1.009510</td>\n",
       "      <td>1.025599</td>\n",
       "      <td>1.006497</td>\n",
       "      <td>1.003776</td>\n",
       "      <td>0.997993</td>\n",
       "      <td>1.018677</td>\n",
       "      <td>0.999618</td>\n",
       "    </tr>\n",
       "    <tr>\n",
       "      <th>3</th>\n",
       "      <td>1.051157</td>\n",
       "      <td>0.986120</td>\n",
       "      <td>1.005673</td>\n",
       "      <td>0.989955</td>\n",
       "      <td>0.980708</td>\n",
       "      <td>1.073241</td>\n",
       "      <td>0.958629</td>\n",
       "      <td>1.030064</td>\n",
       "      <td>0.964977</td>\n",
       "      <td>1.043629</td>\n",
       "      <td>...</td>\n",
       "      <td>1.013746</td>\n",
       "      <td>0.952574</td>\n",
       "      <td>0.972122</td>\n",
       "      <td>0.999135</td>\n",
       "      <td>1.029286</td>\n",
       "      <td>0.988766</td>\n",
       "      <td>0.997026</td>\n",
       "      <td>0.950194</td>\n",
       "      <td>1.013230</td>\n",
       "      <td>1.016087</td>\n",
       "    </tr>\n",
       "    <tr>\n",
       "      <th>4</th>\n",
       "      <td>1.070963</td>\n",
       "      <td>0.964952</td>\n",
       "      <td>1.033103</td>\n",
       "      <td>0.998612</td>\n",
       "      <td>0.966229</td>\n",
       "      <td>1.096104</td>\n",
       "      <td>0.960789</td>\n",
       "      <td>1.040548</td>\n",
       "      <td>0.969261</td>\n",
       "      <td>1.025846</td>\n",
       "      <td>...</td>\n",
       "      <td>1.010617</td>\n",
       "      <td>0.959971</td>\n",
       "      <td>0.955327</td>\n",
       "      <td>1.007014</td>\n",
       "      <td>1.054717</td>\n",
       "      <td>0.989210</td>\n",
       "      <td>0.993325</td>\n",
       "      <td>0.960120</td>\n",
       "      <td>1.020824</td>\n",
       "      <td>1.005152</td>\n",
       "    </tr>\n",
       "    <tr>\n",
       "      <th>...</th>\n",
       "      <td>...</td>\n",
       "      <td>...</td>\n",
       "      <td>...</td>\n",
       "      <td>...</td>\n",
       "      <td>...</td>\n",
       "      <td>...</td>\n",
       "      <td>...</td>\n",
       "      <td>...</td>\n",
       "      <td>...</td>\n",
       "      <td>...</td>\n",
       "      <td>...</td>\n",
       "      <td>...</td>\n",
       "      <td>...</td>\n",
       "      <td>...</td>\n",
       "      <td>...</td>\n",
       "      <td>...</td>\n",
       "      <td>...</td>\n",
       "      <td>...</td>\n",
       "      <td>...</td>\n",
       "      <td>...</td>\n",
       "      <td>...</td>\n",
       "    </tr>\n",
       "    <tr>\n",
       "      <th>7556</th>\n",
       "      <td>115.970676</td>\n",
       "      <td>210.047382</td>\n",
       "      <td>7.064159</td>\n",
       "      <td>77.149486</td>\n",
       "      <td>6.825899</td>\n",
       "      <td>2303.144138</td>\n",
       "      <td>62.248621</td>\n",
       "      <td>109.511840</td>\n",
       "      <td>1.283645</td>\n",
       "      <td>482.083294</td>\n",
       "      <td>...</td>\n",
       "      <td>74.030529</td>\n",
       "      <td>339.807373</td>\n",
       "      <td>58.927665</td>\n",
       "      <td>84.067282</td>\n",
       "      <td>225.453634</td>\n",
       "      <td>69.196618</td>\n",
       "      <td>3.007535</td>\n",
       "      <td>222.786862</td>\n",
       "      <td>426.051928</td>\n",
       "      <td>682.949677</td>\n",
       "    </tr>\n",
       "    <tr>\n",
       "      <th>7557</th>\n",
       "      <td>118.404662</td>\n",
       "      <td>207.399885</td>\n",
       "      <td>7.173775</td>\n",
       "      <td>77.715826</td>\n",
       "      <td>6.909719</td>\n",
       "      <td>2299.563166</td>\n",
       "      <td>61.257207</td>\n",
       "      <td>107.904097</td>\n",
       "      <td>1.289391</td>\n",
       "      <td>480.665483</td>\n",
       "      <td>...</td>\n",
       "      <td>73.825010</td>\n",
       "      <td>343.716233</td>\n",
       "      <td>60.439687</td>\n",
       "      <td>86.092927</td>\n",
       "      <td>231.146933</td>\n",
       "      <td>66.641951</td>\n",
       "      <td>3.017203</td>\n",
       "      <td>224.467906</td>\n",
       "      <td>417.545670</td>\n",
       "      <td>669.894356</td>\n",
       "    </tr>\n",
       "    <tr>\n",
       "      <th>7558</th>\n",
       "      <td>120.381933</td>\n",
       "      <td>209.981838</td>\n",
       "      <td>7.252720</td>\n",
       "      <td>78.325080</td>\n",
       "      <td>7.012462</td>\n",
       "      <td>2280.758157</td>\n",
       "      <td>61.964468</td>\n",
       "      <td>105.061798</td>\n",
       "      <td>1.279460</td>\n",
       "      <td>490.810815</td>\n",
       "      <td>...</td>\n",
       "      <td>74.214296</td>\n",
       "      <td>349.031880</td>\n",
       "      <td>60.479231</td>\n",
       "      <td>88.438125</td>\n",
       "      <td>232.796512</td>\n",
       "      <td>68.050093</td>\n",
       "      <td>3.029072</td>\n",
       "      <td>224.955533</td>\n",
       "      <td>414.974945</td>\n",
       "      <td>679.952534</td>\n",
       "    </tr>\n",
       "    <tr>\n",
       "      <th>7559</th>\n",
       "      <td>120.185273</td>\n",
       "      <td>209.419596</td>\n",
       "      <td>7.213890</td>\n",
       "      <td>78.161048</td>\n",
       "      <td>7.305712</td>\n",
       "      <td>2301.638899</td>\n",
       "      <td>62.672370</td>\n",
       "      <td>106.193643</td>\n",
       "      <td>1.274968</td>\n",
       "      <td>505.550313</td>\n",
       "      <td>...</td>\n",
       "      <td>74.506407</td>\n",
       "      <td>353.509107</td>\n",
       "      <td>58.795989</td>\n",
       "      <td>88.964956</td>\n",
       "      <td>232.936968</td>\n",
       "      <td>67.952168</td>\n",
       "      <td>3.088887</td>\n",
       "      <td>230.342842</td>\n",
       "      <td>428.518318</td>\n",
       "      <td>696.323290</td>\n",
       "    </tr>\n",
       "    <tr>\n",
       "      <th>7560</th>\n",
       "      <td>116.210179</td>\n",
       "      <td>207.278194</td>\n",
       "      <td>7.370663</td>\n",
       "      <td>78.168034</td>\n",
       "      <td>7.444596</td>\n",
       "      <td>2324.642127</td>\n",
       "      <td>63.226457</td>\n",
       "      <td>108.579892</td>\n",
       "      <td>1.280362</td>\n",
       "      <td>504.541297</td>\n",
       "      <td>...</td>\n",
       "      <td>75.579960</td>\n",
       "      <td>354.738148</td>\n",
       "      <td>58.244522</td>\n",
       "      <td>90.586353</td>\n",
       "      <td>232.142206</td>\n",
       "      <td>68.180763</td>\n",
       "      <td>3.043740</td>\n",
       "      <td>232.177120</td>\n",
       "      <td>442.931476</td>\n",
       "      <td>683.098124</td>\n",
       "    </tr>\n",
       "  </tbody>\n",
       "</table>\n",
       "<p>7561 rows × 500 columns</p>\n",
       "</div>"
      ],
      "text/plain": [
       "             0           1         2          3         4            5    \\\n",
       "0       1.000000    1.000000  1.000000   1.000000  1.000000     1.000000   \n",
       "1       1.040585    0.998624  0.986677   1.003136  0.972204     1.041794   \n",
       "2       1.024479    0.997819  1.001978   1.011584  0.994513     1.050385   \n",
       "3       1.051157    0.986120  1.005673   0.989955  0.980708     1.073241   \n",
       "4       1.070963    0.964952  1.033103   0.998612  0.966229     1.096104   \n",
       "...          ...         ...       ...        ...       ...          ...   \n",
       "7556  115.970676  210.047382  7.064159  77.149486  6.825899  2303.144138   \n",
       "7557  118.404662  207.399885  7.173775  77.715826  6.909719  2299.563166   \n",
       "7558  120.381933  209.981838  7.252720  78.325080  7.012462  2280.758157   \n",
       "7559  120.185273  209.419596  7.213890  78.161048  7.305712  2301.638899   \n",
       "7560  116.210179  207.278194  7.370663  78.168034  7.444596  2324.642127   \n",
       "\n",
       "            6           7         8           9    ...        490         491  \\\n",
       "0      1.000000    1.000000  1.000000    1.000000  ...   1.000000    1.000000   \n",
       "1      0.996746    1.001793  0.994933    1.022109  ...   1.002087    0.996487   \n",
       "2      0.984968    1.027139  0.983268    1.039494  ...   1.030922    0.954697   \n",
       "3      0.958629    1.030064  0.964977    1.043629  ...   1.013746    0.952574   \n",
       "4      0.960789    1.040548  0.969261    1.025846  ...   1.010617    0.959971   \n",
       "...         ...         ...       ...         ...  ...        ...         ...   \n",
       "7556  62.248621  109.511840  1.283645  482.083294  ...  74.030529  339.807373   \n",
       "7557  61.257207  107.904097  1.289391  480.665483  ...  73.825010  343.716233   \n",
       "7558  61.964468  105.061798  1.279460  490.810815  ...  74.214296  349.031880   \n",
       "7559  62.672370  106.193643  1.274968  505.550313  ...  74.506407  353.509107   \n",
       "7560  63.226457  108.579892  1.280362  504.541297  ...  75.579960  354.738148   \n",
       "\n",
       "            492        493         494        495       496         497  \\\n",
       "0      1.000000   1.000000    1.000000   1.000000  1.000000    1.000000   \n",
       "1      0.964226   1.020598    1.014279   0.984954  1.010983    1.000333   \n",
       "2      0.980748   1.009510    1.025599   1.006497  1.003776    0.997993   \n",
       "3      0.972122   0.999135    1.029286   0.988766  0.997026    0.950194   \n",
       "4      0.955327   1.007014    1.054717   0.989210  0.993325    0.960120   \n",
       "...         ...        ...         ...        ...       ...         ...   \n",
       "7556  58.927665  84.067282  225.453634  69.196618  3.007535  222.786862   \n",
       "7557  60.439687  86.092927  231.146933  66.641951  3.017203  224.467906   \n",
       "7558  60.479231  88.438125  232.796512  68.050093  3.029072  224.955533   \n",
       "7559  58.795989  88.964956  232.936968  67.952168  3.088887  230.342842   \n",
       "7560  58.244522  90.586353  232.142206  68.180763  3.043740  232.177120   \n",
       "\n",
       "             498         499  \n",
       "0       1.000000    1.000000  \n",
       "1       0.998957    1.009250  \n",
       "2       1.018677    0.999618  \n",
       "3       1.013230    1.016087  \n",
       "4       1.020824    1.005152  \n",
       "...          ...         ...  \n",
       "7556  426.051928  682.949677  \n",
       "7557  417.545670  669.894356  \n",
       "7558  414.974945  679.952534  \n",
       "7559  428.518318  696.323290  \n",
       "7560  442.931476  683.098124  \n",
       "\n",
       "[7561 rows x 500 columns]"
      ]
     },
     "execution_count": 17,
     "metadata": {},
     "output_type": "execute_result"
    }
   ],
   "source": [
    "# Run the Monte Carlo simulation to forecast 10 years cumulative returns\n",
    "monte_high_risk.calc_cumulative_return()\n"
   ]
  },
  {
   "cell_type": "code",
   "execution_count": 18,
   "metadata": {},
   "outputs": [
    {
     "data": {
      "image/png": "[encoded data removed]",
      "text/plain": [
       "<Figure size 432x288 with 1 Axes>"
      ]
     },
     "metadata": {
      "needs_background": "light"
     },
     "output_type": "display_data"
    }
   ],
   "source": [
    "# Visualize the 10-year Monte Carlo simulation by creating an\n",
    "# overlay line plot\n",
    "high_risk_line_plot = monte_high_risk.plot_simulation()\n"
   ]
  },
  {
   "cell_type": "code",
   "execution_count": 19,
   "metadata": {},
   "outputs": [
    {
     "data": {
      "image/png": "[encoded data removed]",
      "text/plain": [
       "<Figure size 432x288 with 1 Axes>"
      ]
     },
     "metadata": {
      "needs_background": "light"
     },
     "output_type": "display_data"
    }
   ],
   "source": [
    "# Visualize the probability distribution of the 10-year Monte Carlo simulation \n",
    "# by plotting a histogram\n",
    "high_risk_distribution_plot = monte_high_risk.plot_distribution()\n"
   ]
  },
  {
   "cell_type": "code",
   "execution_count": 87,
   "metadata": {},
   "outputs": [
    {
     "data": {
      "text/plain": [
       "count           500.000000\n",
       "mean              4.687612\n",
       "std               2.654293\n",
       "min               0.772621\n",
       "25%               2.784076\n",
       "50%               4.101473\n",
       "75%               5.921088\n",
       "max              19.939381\n",
       "95% CI Lower      1.487167\n",
       "95% CI Upper     11.530633\n",
       "Name: 2520, dtype: float64"
      ]
     },
     "execution_count": 87,
     "metadata": {},
     "output_type": "execute_result"
    }
   ],
   "source": [
    "# Generate summary statistics from the 10-year Monte Carlo simulation results\n",
    "# Save the results as a variable\n",
    "high_risk_table = monte_high_risk.summarize_cumulative_return()\n",
    "\n",
    "\n",
    "# Review the 10-year Monte Carlo summary statistics\n",
    "high_risk_table"
   ]
  },
  {
   "cell_type": "markdown",
   "metadata": {},
   "source": [
    "### Answer the following questions:"
   ]
  },
  {
   "cell_type": "markdown",
   "metadata": {},
   "source": [
    "#### Question: Using the current value of only the stock and bond portion of the member's portfolio and the summary statistics that you generated from the new Monte Carlo simulation, what are the lower and upper bounds for the expected value of the portfolio (with the new weights) with a 95% confidence interval?"
   ]
  },
  {
   "cell_type": "code",
   "execution_count": 88,
   "metadata": {},
   "outputs": [
    {
     "data": {
      "text/plain": [
       "69783.7"
      ]
     },
     "execution_count": 88,
     "metadata": {},
     "output_type": "execute_result"
    }
   ],
   "source": [
    "# Print the current balance of the stock and bond portion of the members portfolio\n",
    "total_stocks_bonds\n"
   ]
  },
  {
   "cell_type": "code",
   "execution_count": 90,
   "metadata": {},
   "outputs": [
    {
     "name": "stdout",
     "output_type": "stream",
     "text": [
      "There is a 95% chance that this high risk portfolio, starting with $ 69783.70, will end within in the range of $ 103780 and $ 804650 over the next 10 years.\n"
     ]
    }
   ],
   "source": [
    "# Use the lower and upper `95%` confidence intervals to calculate the range of the possible outcomes for the current stock/bond portfolio\n",
    "ci_lower_ten_cumulative_return = high_risk_table[8]*total_stocks_bonds\n",
    "ci_upper_ten_cumulative_return = high_risk_table[9]*total_stocks_bonds\n",
    "\n",
    "# Print the result of your calculations\n",
    "\n",
    "print(f\"There is a 95% chance that this high risk portfolio, starting with ${total_stocks_bonds: .2f},\"\n",
    "      f\" will end within in the range of\"\n",
    "      f\" ${ci_lower_ten_cumulative_return: .0f} and ${ci_upper_ten_cumulative_return: .0f} over the next 10 years.\")\n"
   ]
  },
  {
   "cell_type": "markdown",
   "metadata": {},
   "source": [
    "#### Question: Will weighting the portfolio more heavily to stocks allow the credit union members to retire after only 10 years?"
   ]
  },
  {
   "cell_type": "raw",
   "metadata": {},
   "source": [
    "#Weighting the porftolio more heavily to stocks will increase the risk profile and potentially greatly increase the return. However, keeping your portfolio in 80% stocks within 10 years of retirement is quite risky as an extended market downturn could disrupt retirement plans. Depending on how much is needed for retirment, this 80/20 portfolio will most likely not cover the individual's needs since it is likely to return anywhere between $104k and $804k over ten years."
   ]
  },
  {
   "cell_type": "code",
   "execution_count": null,
   "metadata": {},
   "outputs": [],
   "source": []
  }
 ],
 "metadata": {
  "kernelspec": {
   "display_name": "Python (dev)",
   "language": "python",
   "name": "dev"
  },
  "language_info": {
   "codemirror_mode": {
    "name": "ipython",
    "version": 3
   },
   "file_extension": ".py",
   "mimetype": "text/x-python",
   "name": "python",
   "nbconvert_exporter": "python",
   "pygments_lexer": "ipython3",
   "version": "3.7.11"
  }
 },
 "nbformat": 4,
 "nbformat_minor": 4
}
